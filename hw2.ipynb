{
 "cells": [
  {
   "cell_type": "markdown",
   "metadata": {},
   "source": [
    "## algorithm design and anlysis-2025 spring  homework 2\n",
    "**Deadline**：2025.5.14\n",
    "\n",
    "**name**:\n",
    "\n",
    "\n",
    "note：\n",
    "---\n",
    "1. 带有\\*的题目，申请免上课的同学，必须完成，其他同学选作；\n",
    "2. 请独立完成，如求助了他人或者大模型，请著明，并且不可省略算法分析部分；\n",
    "4. 如若作答有雷同，全部取消成绩；\n",
    "3. 需要书面作答的题目，可以通过引用图片的形式添加，但是注意上传项目时包含所引用的图片的源文件；\n",
    "4. $log_n$ 默认表示$log_2{n}$;"
   ]
  },
  {
   "cell_type": "markdown",
   "metadata": {},
   "source": [
    "## 问题 1  \n",
    "\n",
    "> 给定一个已排序的链表的头 `head` ， *删除所有重复的元素，使每个元素只出现一次* 。返回 *已排序的链表* 。链表的类如下所示：\n",
    "\n",
    "```python\n",
    "class NodeList:\n",
    "    def __init__(self, val=None, right=None):\n",
    "        self.val   = val\n",
    "        self.right = right\n",
    "```\n",
    "\n",
    "输入是一个数组，你首先需要将数组转化为链表，然后删除链表中的重复元素，再遍历链表元素，以一个数组的形式返回。请设计一个算法解决上述任务，分析算法设计思路，计算时间复杂度, 并基于python编程实现。\n",
    "\n",
    "e.g.  输入：head=[1, 1, 2, 3, 3]   输出：[1, 2, 3]\n",
    "\n",
    "![image-20240502110020439](./fig/hw2q1.png)\n",
    "\n"
   ]
  },
  {
   "cell_type": "markdown",
   "metadata": {},
   "source": [
    "idea：\n",
    "1. 算法设计思路：首先将数组转换为链表的形式，就直接遍历数组的每一个元素，然后将每一个元素生成NodeList；然后删除重复的节点借鉴数据结构中链表的删除节点的方法，遍历链表，如果当前的节点的val和下一个节点的val一致，则对下一个节点进行删除操作，直到下一个节点的val不同；最后是将链表转为数组形式，直接遍历链表，将每个节点的val存入数组即可。\n",
    "2. 时间复杂度分析：n个元素，数组转为链表的时候只遍历数组一次，所以为O(n)；删除重复节点也是只遍历了一次链表，故为O(n)；链表转为数组是只遍历链表一次，故为O(n)。总的时间复杂度T(n)=O(n)+O(n)+O(n)=O(n)\n"
   ]
  },
  {
   "cell_type": "code",
   "metadata": {
    "ExecuteTime": {
     "end_time": "2025-05-06T02:42:47.215579Z",
     "start_time": "2025-05-06T02:42:47.189579Z"
    }
   },
   "source": [
    "# add your idea here\n",
    "class NodeList:\n",
    "    def __init__(self, val=None, right=None):\n",
    "        self.val   = val\n",
    "        self.right = right\n",
    "\n",
    "def Arr_2_List(arr):\n",
    "        Head = NodeList(arr[0])\n",
    "        index = Head\n",
    "        for node in arr[1: ]:\n",
    "            Right = NodeList(node)\n",
    "            index.right = Right\n",
    "            index = index.right\n",
    "        return Head\n",
    "\n",
    "def delete_num(head):\n",
    "        index = head\n",
    "        while index.right:\n",
    "            if index.val == index.right.val:\n",
    "                index.right = index.right.right\n",
    "            else:\n",
    "                index = index.right\n",
    "        return head\n",
    "\n",
    "def List_2_Arr(head):\n",
    "        arr = []\n",
    "        index = head\n",
    "        while index:\n",
    "            arr.append(index.val)\n",
    "            index = index.right\n",
    "        return arr\n",
    "\n",
    "head = [1, 1, 2, 3, 3]\n",
    "List = Arr_2_List(head)\n",
    "List_delete = delete_num(List)\n",
    "# while List:\n",
    "#     print(List.val)\n",
    "#     List = List.right\n",
    "Arr_delete = List_2_Arr(List_delete)\n",
    "\n",
    "print(Arr_delete)\n",
    "# your algorithm time complexity is:"
   ],
   "outputs": [
    {
     "name": "stdout",
     "output_type": "stream",
     "text": [
      "[1, 2, 3]\n"
     ]
    }
   ],
   "execution_count": 1
  },
  {
   "cell_type": "markdown",
   "metadata": {},
   "source": [
    "## 问题 2  \n",
    "\n",
    "> 下面是一个经典的算法问题：\n",
    ">\n",
    "> - 给定包含n个整数的一个整数数组 `nums` 和一个整数目标值 `target`，请你在该数组中找出 **和为目标值** *`target`* 的那 **两个** 整数，并返回它们的**数组下标**。假设每种输入只会对应一个答案。但是，数组中同一个元素在答案里不能重复出现。你可以按任意顺序返回答案。\n",
    ">\n",
    "> 由于要多次查找数组中元素的位置，为了提高查询效率可以使用哈希表来存储数组中的数据，在哈希表中查询一个元素的复杂度为O(1)。 已知python中的字典是使用哈希表实现的，即使用`dict[key]`查询对应的value时间复杂度为O(1), python提供了查询字典是否包含某个key的功能：`key in dict`，时间复杂度也是O(1)\n",
    "\n",
    "请根据上面信息，设计一个时间复杂度为O(n) 的算法，解决上述算法问题\n",
    "\n",
    "e.g.   \n",
    "\n",
    "输入：nums=[2,7,11,15], target=9， 输出：[0，1]\n",
    "\n",
    "输入：nums=[3,2,4], target=6, 输出：[1,2]\n",
    "\n",
    "输入：nums=[3,3], target=6,  输出：[0,1]\n"
   ]
  },
  {
   "metadata": {},
   "cell_type": "markdown",
   "source": [
    "idea\n",
    "1. 算法设计：直接遍历字典，利用ans = target-此时访问的key，去dict中找key为ans的，然后直接return即可，这样只遍历了一次字典，故时间复杂度为O(n)。因为使用dict[key]查询value的时间复杂度为O(1)，以及查询是否包含key in dict的也为O(1)；故总的时间复杂度T(n)=O(n)*O(1)=O(n)\n",
    "2. 时间复杂度：O（n）"
   ]
  },
  {
   "cell_type": "code",
   "metadata": {
    "ExecuteTime": {
     "end_time": "2025-05-06T03:03:29.576561Z",
     "start_time": "2025-05-06T03:03:29.563552Z"
    }
   },
   "source": [
    "# add your idea here\n",
    "# \n",
    "def find(nums, target):\n",
    "    dict = {}\n",
    "    index = 0\n",
    "\n",
    "    for num in nums:\n",
    "        ans = target - num\n",
    "        if ans in dict:\n",
    "            return [dict[ans], index]\n",
    "        dict[num] = index\n",
    "        index = index + 1\n",
    "\n",
    "nums = [2,7,11,15]\n",
    "print(find(nums,9))\n",
    "nums = [3,2,4]\n",
    "print(find(nums,6))\n",
    "nums = [3,3]\n",
    "print(find(nums,6))\n",
    "# your algorithm time complexity is: O(n)"
   ],
   "outputs": [
    {
     "name": "stdout",
     "output_type": "stream",
     "text": [
      "[0, 1]\n",
      "[1, 2]\n",
      "[0, 1]\n"
     ]
    }
   ],
   "execution_count": 2
  },
  {
   "cell_type": "markdown",
   "metadata": {},
   "source": [
    "## 问题 3:   \n",
    "\n",
    "> 栈是一种常用的数据结构，编译器中通常使用栈来实现表达式求值。\n",
    ">\n",
    "> 以表达式 $3+5 \\times 8-6$​ 为例。编译器使用两个栈来完成运算，即一个栈保持操作数，另一个栈保存运算符。\n",
    ">\n",
    "> 1. 从左向右遍历表达式，遇到数字就压入操作数栈；\n",
    ">\n",
    "> 2. 遇到运算符，就与运算符栈的栈顶元素进行比较。如果比运算符栈顶元素的优先级高，就将当前运算符压入栈；如果比运算符栈顶元素的优先级低或者相同，从运算符栈中取栈顶运算符，从操作数栈的栈顶取 2 个操作数，然后进行计算，再把计算完的结果压入操作数栈，继续比较。\n",
    ">\n",
    "> 下图是 $3+5 \\times 8-6$  这个表达式的计算过程：\n",
    "\n",
    "![figure](./fig/hw2q3.png)\n",
    "\n",
    "根据上述原理，请设计一个算法完成表达式的运算，当输入为表达式字符串，返回对应的计算结果。分析算法设计思路，计算时间复杂度，并基于python编程实现\n",
    "\n",
    "**note：**\n",
    "\n",
    "1. 假设输入的表达式只会出现加（“+”），减 “-”， 乘“*”，除 “/” 四个运算符, 表达式中只会出现正整数\n",
    "2. python中` str.isdigit()`函数可以判断字符串str是否为数字，\n",
    "\n",
    "\n",
    "\n",
    "e.g. :\n",
    "---\n",
    "\n",
    "1. 输入：“$3+5 * 8 -6$”   输出：37\n",
    "\n",
    "2. 输入：“$34+13*9 + 44-12/3$”  输出：191"
   ]
  },
  {
   "cell_type": "markdown",
   "metadata": {},
   "source": [
    "idea：\n",
    "1. 算法设计思路：使用两个栈，一个存储数字，一个存储操作符。（1）首先初始化这两个栈nums和ope。（2）然后从左到右开始遍历字符串，碰到数字就压入数字栈nums，遇到两位数及以上，还需要将单个字符拼接到一起后转为相应的数字存入数字栈nums。（3）遇到操作符的时候，首先比较优先级，优先级使用的字典存储的，通过rank['操作符']直接进行获取优先级：①如果操作栈ope为空则直接将操作符压入操作栈ope。②如果当前操作符的优先级>ope栈顶元素的优先级，则将当前操作符压入ope栈。③≤的时候，则取出nums栈的栈顶两个元素和ope栈的栈顶元素操作符，根据操作符对这两个数字进行操作，然后将计算后的数字压入nums栈。直到遍历完成。遍历完成后，再对栈内剩余数字进行操作，直到操作栈ope没有操作符为止。\n",
    "2. 时间复杂度分析：①遍历整个字符串：O(n)。②处理剩下的操作符：O(k)，其中k<<n。所以总的时间复杂度T(n)=O(n)+O(k)=O(n)"
   ]
  },
  {
   "cell_type": "code",
   "metadata": {
    "ExecuteTime": {
     "end_time": "2025-05-06T03:03:56.268143Z",
     "start_time": "2025-05-06T03:03:56.250144Z"
    }
   },
   "source": [
    "# add your idea here\n",
    "class Stack:\n",
    "    def __init__(self):\n",
    "        self.stack = []\n",
    "\n",
    "    def push(self, item):\n",
    "        self.stack.append(item)\n",
    "\n",
    "    def pop(self):\n",
    "        self.stack.pop()\n",
    "\n",
    "    def top(self):\n",
    "        return self.stack[-1]\n",
    "\n",
    "    def is_empty(self):\n",
    "        return len(self.stack) == 0\n",
    "\n",
    "    def size(self):\n",
    "        return len(self.stack)\n",
    "\n",
    "def compute(string):\n",
    "    rank = {'*':1, '/':1, '+':0, '-':0}\n",
    "    nums = Stack() # 数字\n",
    "    ope = Stack() # 操作\n",
    "\n",
    "    index = 0\n",
    "    len_str = len(string)\n",
    "\n",
    "    while index < len_str:\n",
    "        if string[index].isdigit():\n",
    "            temp_num = 0\n",
    "            while index < len_str and string[index].isdigit():\n",
    "                temp_num = temp_num * 10 + int(string[index])\n",
    "                index = index + 1\n",
    "            nums.push(temp_num)\n",
    "        else: # 操作\n",
    "            if ope.is_empty():\n",
    "                ope.push(string[index])\n",
    "                index = index + 1\n",
    "            else: # ope不为空\n",
    "                if rank[string[index]] > rank[ope.top()]:\n",
    "                    ope.push(string[index])\n",
    "                    index = index + 1\n",
    "                else: # 取出数字进行计算\n",
    "                    num2 = nums.top()\n",
    "                    nums.pop()\n",
    "                    num1 = nums.top()\n",
    "                    nums.pop()\n",
    "                    op = ope.top()\n",
    "                    ope.pop()\n",
    "                    if op == '+': new_num = num1 + num2\n",
    "                    elif op == '-': new_num = num1 - num2\n",
    "                    elif op == '*': new_num = num1 * num2\n",
    "                    elif op == '/': new_num = num1 / num2\n",
    "                    nums.push(new_num)\n",
    "\n",
    "    while not ope.is_empty():\n",
    "        # 此时处理剩下的数字\n",
    "        num2 = nums.top()\n",
    "        nums.pop()\n",
    "        num1 = nums.top()\n",
    "        nums.pop()\n",
    "        op = ope.top()\n",
    "        ope.pop()\n",
    "        if op == '+':\n",
    "            new_num = num1 + num2\n",
    "        elif op == '-':\n",
    "            new_num = num1 - num2\n",
    "        elif op == '*':\n",
    "            new_num = num1 * num2\n",
    "        elif op == '/':\n",
    "            new_num = num1 / num2\n",
    "        nums.push(new_num)\n",
    "\n",
    "    return nums.top()\n",
    "\n",
    "print(compute(\"3+5*8-6\"))\n",
    "print(compute(\"34+13*9+44-12/3\"))\n",
    "# your algorithm time complexity is: "
   ],
   "outputs": [
    {
     "name": "stdout",
     "output_type": "stream",
     "text": [
      "37\n",
      "191.0\n"
     ]
    }
   ],
   "execution_count": 3
  },
  {
   "cell_type": "markdown",
   "metadata": {},
   "source": [
    "## 问题 4:  \n",
    "\n",
    "> 星球碰撞问题：现有n个星球，在同一条直线上运行，如数组A所示，元素的绝对值表示星球的质量，负数表示星球自右向左运动，正数表示星球自左向右运动，当两个星球相撞的时候，质量小的会消失，大的保持不变，**质量相同的两个星球碰撞后自右向左运动的星球消失，自左向右的星球保持不变**，假设所有星球的速度大小相同。\n",
    ">\n",
    "> $ A=[23,-8, 9, -3, -7, 9, -23, 22] $\n",
    "\n",
    "请设计一个算法模拟星球的运行情况，输出最终的星球存续情况（输出一个数组），分析算法设计思路，计算时间复杂度，并基于python编程实现。\n",
    "\n",
    "e.g.\n",
    "---\n",
    "1.  输入： A=[-3,-6,2,8, 5,-8,9,-2,1]， 输出：[-3, -6, 2, 8, 9, 1]\n",
    "\n",
    "2. 输入：A=[23,-8, 9, -3, -7, 9, -23, 22], 输出：[23, 22]\n",
    "\n"
   ]
  },
  {
   "metadata": {},
   "cell_type": "markdown",
   "source": [
    "1. 算法设计思路：使用栈来模拟星球碰撞，默认以右行为主。初始化一个空栈，使用alive来标志星球plant是否还存在，对数组中的星球开始遍历：①当plant存在，是负数，栈顶星球非空且值是正数，证明这两个星球是相向而行，必然会发生碰撞，根据碰撞规则，如果plant<stack[-1]则会消失，alive置为False；②如果plant>stack[-1]，则是栈顶星球消失，直接弹出栈顶星球即可，同时继续和下一个栈顶星球进行比较；③将所有的星球遍历完成后，栈内剩下的星球故为最终的星球存续情况。\n",
    "2. 时间复杂度：总体只对整个数组进行了遍历，故T（n）=O（n）"
   ]
  },
  {
   "metadata": {
    "ExecuteTime": {
     "end_time": "2025-05-06T03:54:23.876491Z",
     "start_time": "2025-05-06T03:54:23.862491Z"
    }
   },
   "cell_type": "code",
   "source": [
    "def final_plant(plants):\n",
    "    stack = []\n",
    "    for plant in plants:\n",
    "        alive = True\n",
    "        while alive and stack and plant < 0 < stack[-1]:\n",
    "            alive = stack[-1] < -plant\n",
    "            if stack[-1] < -plant:\n",
    "                stack.pop()\n",
    "        if alive:\n",
    "            stack.append(plant)\n",
    "    return stack\n",
    "\n",
    "A=[-3,-6,2,8, 5,-8,9,-2,1]\n",
    "print(f\"最终的星球：{final_plant(A)}\")\n",
    "A=[23,-8, 9, -3, -7, 9, -23, 22]\n",
    "print(f\"最终的星球：{final_plant(A)}\")"
   ],
   "outputs": [
    {
     "name": "stdout",
     "output_type": "stream",
     "text": [
      "最终的星球：[-3, -6, 2, 8, 9, 1]\n",
      "最终的星球：[23, 22]\n"
     ]
    }
   ],
   "execution_count": 8
  },
  {
   "cell_type": "markdown",
   "metadata": {},
   "source": [
    "## 问题 5 \n",
    "\n",
    "> 给定一个无序数组nums=[9,-3,-10,0,9,7,33]，请建立一个二叉搜索树存储数组中的所有元素，之后删除二叉树中的元素“0”，再使用中序遍历输出二叉搜索树中的所有元素。\n",
    "\n",
    "使用python编程完成上述任务，并计算时间复杂度\n"
   ]
  },
  {
   "cell_type": "code",
   "metadata": {
    "ExecuteTime": {
     "end_time": "2025-04-19T07:38:55.285212Z",
     "start_time": "2025-04-19T07:38:55.263213Z"
    }
   },
   "source": [
    "# add your idea here\n",
    "# add your idea here\n",
    "class Node:\n",
    "    def __init__(self, val):\n",
    "        self.val = val\n",
    "        self.parent = None\n",
    "        self.left = None\n",
    "        self.right = None\n",
    "\n",
    "\n",
    "class Tree:\n",
    "    def __init__(self, root=None):\n",
    "        self.root = root\n",
    "\n",
    "    def is_empty(self):\n",
    "        if self.root is None:\n",
    "            return True\n",
    "        else:\n",
    "            return False\n",
    "\n",
    "\n",
    "def insert(self, val):\n",
    "    node = Node(val)\n",
    "    if self.is_empty():\n",
    "        self.root = node\n",
    "    else:\n",
    "        parent = self.root\n",
    "        while True:\n",
    "            if val < parent.val:\n",
    "                if parent.left is None:\n",
    "                    parent.left = node\n",
    "                    break\n",
    "                else:\n",
    "                    parent = parent.left\n",
    "            elif val >= parent.val:\n",
    "                if parent.right is None:\n",
    "                    parent.right = node\n",
    "                    break\n",
    "                else:\n",
    "                    parent = parent.right\n",
    "\n",
    "        node.parent = parent\n",
    "\n",
    "\n",
    "def delete(root, val):\n",
    "    if val < root.val:\n",
    "        root.left = delete(root.left, val)\n",
    "    elif val > root.val:\n",
    "        root.right = delete(root.right, val)\n",
    "    else:  # 四种情况 只有左子树/右子树 都没有 都有\n",
    "        if root.left is not None and root.right is not None:\n",
    "            # 找右子树最小节点\n",
    "            temp = root.right\n",
    "            while temp.left:\n",
    "                temp = temp.left\n",
    "            root.val = temp.val\n",
    "            root.right = delete(root.right, temp.val)\n",
    "        elif root.right is None and root.left is None:\n",
    "            root = None\n",
    "        elif root.left is None:\n",
    "            root = root.right\n",
    "        elif root.right is None:\n",
    "            root = root.left\n",
    "\n",
    "    return root\n",
    "\n",
    "\n",
    "def order(root):\n",
    "    if root is None:\n",
    "        return\n",
    "    order(root.left)\n",
    "    print(f\"{root.val}, \")\n",
    "    order(root.right)\n",
    "\n",
    "\n",
    "nums = [9, -3, -10, 0, 9, 7, 33]\n",
    "tree = Tree()\n",
    "for num in nums:\n",
    "    insert(tree, num)\n",
    "\n",
    "rootNode = tree.root\n",
    "delete(rootNode, 0)\n",
    "order(rootNode)\n",
    "        \n",
    "# your algorithm time complexity is: 构建二叉排序树的平均时间复杂度为O（nlogn），删除相应的节点的操作O（nlogn），中序遍历了每个元素故为O（n），所以总的时间复杂度T（n）=O（nlogn）+O（nlogn）+O（n）"
   ],
   "outputs": [
    {
     "name": "stdout",
     "output_type": "stream",
     "text": [
      "-10, \n",
      "-3, \n",
      "7, \n",
      "9, \n",
      "9, \n",
      "33, \n"
     ]
    }
   ],
   "execution_count": 2
  },
  {
   "cell_type": "markdown",
   "metadata": {},
   "source": [
    "## 问题 6  \n",
    "\n",
    "> 给定一个包含大写字母和小写字母的字符串 s ，返回 字符串包含的 **最长的回文子串的长度** 。请注意 区分大小写 。比如 \"Aa\" 不能当做一个回文字符串。\n",
    ">\n",
    "\n",
    "请设计一个算法解决上述问题，只需要输出最长回文子串的长度，分析算法设计思路，计算时间复杂度，并基于python编程实现\n",
    "\n",
    "e.g. 输入： s=\"adccaccd\"，  输出：7。 最长回文子串为：\"dccaccd\", 长度为7\n"
   ]
  },
  {
   "cell_type": "markdown",
   "metadata": {},
   "source": [
    "idea：\n",
    "1. 算法设计：使用动态规划的方法，如果当前子串为回文串，那么去除掉首尾字符的子串依然为回文串。故动态规划的转移方程为dp[i][j]=dp[i+1][j-1] and str[i]==str[j]，只有当这两个条件同时满足才能为回文子串。然后就是动态规划数组的初始化，一个字母的全初始化为True，两个字母的使用s[i]==s[j]来初始化确认。从3个字母的开始就可以直接使用转移方程进行判断。同时使用max_len来记录回文串最长的长度。\n",
    "2. 时间复杂度：外层循环了n次，内层循环了n-length次，故最终的时间复杂度T（n）=O（n）*O（n-length）=O（n^2）"
   ]
  },
  {
   "cell_type": "code",
   "metadata": {
    "ExecuteTime": {
     "end_time": "2025-04-19T08:49:49.297560Z",
     "start_time": "2025-04-19T08:49:49.280561Z"
    }
   },
   "source": [
    "# add your idea here\n",
    "def HuiWen(str):\n",
    "    max_len = 1\n",
    "    lenth_str = len(str)\n",
    "\n",
    "    dp = [[False] * lenth_str for i in range(lenth_str)]\n",
    "\n",
    "    for length in range(lenth_str):\n",
    "        for index in range(lenth_str - length):\n",
    "            j = index + length\n",
    "            if length == 0:\n",
    "                dp[index][j] = True\n",
    "            elif length == 1:\n",
    "                dp[index][j] = (str[index] == str[j])\n",
    "                if dp[index][j] and length + 1 > max_len:\n",
    "                    max_len = length + 1\n",
    "            else:\n",
    "                if dp[index+1][j-1] and str[index]==str[j]:\n",
    "                    dp[index][j] = True\n",
    "                    if dp[index+1][j-1] and length + 1 > max_len:\n",
    "                        max_len = length + 1\n",
    "    return max_len\n",
    "\n",
    "str = \"adccaccd\"\n",
    "print(f\"str={str},最长回文长度为{HuiWen(str)}\")\n",
    "str = \"dccaccd\"\n",
    "print(f\"str={str},最长回文长度为{HuiWen(str)}\")\n",
    "\n",
    "# your algorithm time complexity is:\n"
   ],
   "outputs": [
    {
     "name": "stdout",
     "output_type": "stream",
     "text": [
      "str=adccaccd,最长回文长度为7\n",
      "str=dccaccd,最长回文长度为7\n"
     ]
    }
   ],
   "execution_count": 4
  },
  {
   "cell_type": "markdown",
   "metadata": {},
   "source": [
    "## 问题 7 \n",
    "\n",
    "> 沿一条长河流分散着n座房子。你可以把这条河想象成一条轴，房子是由它们在这条轴上的坐标按顺序排列的。你的公司想在河边的特定地点设置手机基站，这样每户人家都在距离基站4公里的范围内。输入可以看作为一个升序数组，数组元素的取值为大于等于0的正整数，你需要输出最小基站的数目，基站的位置。\n",
    "\n",
    "1. 给出一个时间复杂度为$O(n$) 的算法，使所使用的基站数量最小化，分析算法设计思路，使用python编程实现\n",
    "2. 证明1.中算法产生了最优解决方案。\n",
    "\n",
    "e.g. \n",
    "\n",
    "输入： [1, 5, 12, 33, 34,35]  输出：基站数目为3， 基站位置为[1，12，33]\n",
    "\n"
   ]
  },
  {
   "cell_type": "markdown",
   "metadata": {},
   "source": [
    "idea：\n",
    "1. 算法思路：遍历一次房屋数组，使得最左边的房屋尽量在基站所能覆盖的范围的最左边。当房屋超过基站范围则以此房屋为新的基站点重复上述操作。\n",
    "2. 证明：算法的输出和最优解是相符合的，基站位置分别在1（覆盖1和5）、12（覆盖12）、33（覆盖33、34和35）"
   ]
  },
  {
   "cell_type": "code",
   "metadata": {
    "ExecuteTime": {
     "end_time": "2025-04-19T09:44:33.545685Z",
     "start_time": "2025-04-19T09:44:33.528674Z"
    }
   },
   "source": [
    "# add your idea here\n",
    "def Station(house):\n",
    "    stations = []\n",
    "    length = len(house)\n",
    "    station = house[0]\n",
    "    stations.append(station)\n",
    "    for i in range(length):\n",
    "        if house[i] <= station + 4:\n",
    "            continue\n",
    "        else:\n",
    "            station = house[i]\n",
    "            stations.append(station)\n",
    "    return stations\n",
    "house = [1, 5, 12, 33, 34,35]\n",
    "stations = Station(house)\n",
    "print(stations)\n",
    "# your algorithm time complexity is:O（n）"
   ],
   "outputs": [
    {
     "name": "stdout",
     "output_type": "stream",
     "text": [
      "[1, 12, 33]\n"
     ]
    }
   ],
   "execution_count": 6
  },
  {
   "cell_type": "markdown",
   "metadata": {},
   "source": [
    "## 问题 8  \n",
    "\n",
    "> 给定由n个正整数组成的一个集合$S = \\{a_1, a_2，···，a_n\\}$和一个正整数W，设计一个算法确定是否存在S的一个子集 $K \\subseteq S$, 使K中所有数之和为 $W$, 如果存在返回“True”，否则返回“False”\n",
    "\n",
    "请设计一个时间复杂度为$O(nW)$动态规划算法，解决上述问题，分析算法的设计思路，并且基于python编程实现（不需要输出子集）。\n",
    "\n",
    "e.g. \n",
    "\n",
    "输入：S = {1,4,7,3,5}， W = 11，输出：True。   因为K可以是{4,7}。\n",
    "\n"
   ]
  },
  {
   "cell_type": "markdown",
   "metadata": {},
   "source": [
    "idea：\n",
    "算法设计：和背包算法是一致的思路。dp[i][j]前i个元素中是否存在和为j的可能，状态转移方程为：dp[i][j]=dp[i-1][j]（不选第i个元素） or dp[i-1][j-s]（选第i个元素），其中s为当前元素i的值。初始化的时候dp[0][0]=True,dp[0][0,1,...,W]=False。"
   ]
  },
  {
   "cell_type": "code",
   "metadata": {
    "ExecuteTime": {
     "end_time": "2025-04-19T10:34:13.190212Z",
     "start_time": "2025-04-19T10:34:13.179212Z"
    }
   },
   "source": [
    "# add your idea here\n",
    "def find_Sum(S, W):\n",
    "    n = len(S)\n",
    "    dp = [[False] * (W+1) for i in range(n+1)]\n",
    "    \n",
    "    dp[0][0] = True\n",
    "    for i in range(W+1):\n",
    "        dp[0][i] = False\n",
    "    for i in range(n+1):\n",
    "        dp[i][0] = True\n",
    "    \n",
    "    for i in range(1,n+1):\n",
    "        for j in range(1, W+1):\n",
    "            if S[i-1] <= j:\n",
    "                dp[i][j] = dp[i-1][j] or dp[i-1][j-S[i-1]]\n",
    "            else:\n",
    "                dp[i][j] = dp[i-1][j]\n",
    "    \n",
    "    return dp[n][W]\n",
    "S = [1,4,7,5,3]\n",
    "W = 11\n",
    "print(find_Sum(S, W))   \n",
    "# your algorithm time complexity is: O(nW)"
   ],
   "outputs": [
    {
     "name": "stdout",
     "output_type": "stream",
     "text": [
      "True\n"
     ]
    }
   ],
   "execution_count": 7
  },
  {
   "cell_type": "markdown",
   "metadata": {},
   "source": [
    "\n",
    "\n",
    "## 问题 9 \n",
    "\n",
    "> 给定一个n个物品的集合。物体的重量为$w_1, w_2，…、w_n$，物品的价值分别是$v_1、v_2、…v_n$。给你**两个**重量为 $c$ 的背包。如果你带了一个东西，它可以放在一个背包里，也可以放在另一个背包里，但不能同时放在两个背包里。所有权重和价值都是正整数。\n",
    "\n",
    "1. 设计一个时间复杂度为 $O(nc^2)$ 的动态规划算法，确定可以放入两个背包的物体的最大价值。分析算法设计思路，并基于python编程实现\n",
    "2. \\* 修改1中的算法，输出每个背包的内容（物品对应下标）。\n",
    "\n",
    "e.g.: \n",
    "\n",
    "输入 V=[1,3,2,5,8,7], W=[1,3,2,5,8,7], c=7, 输出：最大价值=14，背包装的物品为：[6] [4，3] （同一个背包中物品装入顺序对结果无影响）  \n"
   ]
  },
  {
   "cell_type": "markdown",
   "metadata": {},
   "source": [
    "idea：\n",
    "1. 算法设计：参考课件中一个背包的解决思路，扩展到两个背包。dp[i][j][k]表示前i个物品放进容量j的背包1、容量k的背包2，能获得的最大价值。初始化最大价值都为0，三重循环遍历从1开始。故dp[n][c][c]为最终结果。为了满足每个物品不能同时放入两个背包，我设置了一个flag来表示物品是否放入，True表示放入第一个背包，False表示不放入。状态转移方程：①不选择第i个物品， dp[i][j][k] = dp[i-1][j][k]；②将第i个放入第一个背包进行判断：dp[i][j][k] = max(dp[i][j][k], dp[i-1][j - w[i-1]][k] + v[i-1])；③如果第i个物品未放入第一个背包，则放入第二个背包进行判断：dp[i][j][k] = max(dp[i][j][k], dp[i-1][j][k - w[i-1]] + v[i-1])。\n",
    "2. 时间复杂度：代码都为三重循环故T（n）=O（n*c*c）=O（nc^2）"
   ]
  },
  {
   "cell_type": "code",
   "metadata": {
    "ExecuteTime": {
     "end_time": "2025-04-23T07:38:36.030559Z",
     "start_time": "2025-04-23T07:38:36.010560Z"
    }
   },
   "source": [
    "# add your idea here\n",
    "def Two_bag(v, w, c):\n",
    "    n = len(v)\n",
    "    dp = []\n",
    "    for i in range(n+1):\n",
    "        dp.append([])\n",
    "        for j in range(c+1):\n",
    "            dp[i].append([])\n",
    "            dp[i][j] = [0] * (c+1)\n",
    "\n",
    "    for i in range(1, n+1):\n",
    "        for j in range(c+1):\n",
    "            for k in range(c+1):\n",
    "                flag = False\n",
    "                dp[i][j][k] = dp[i-1][j][k]\n",
    "                if j >= w[i - 1]:\n",
    "                    dp[i][j][k] = max(dp[i][j][k], dp[i-1][j - w[i-1]][k] + v[i-1])\n",
    "                    if dp[i][j][k] == dp[i-1][j - w[i-1]][k] + v[i-1]:\n",
    "                        flag = True\n",
    "                \n",
    "                if k >= w[i - 1] and not flag:\n",
    "                    dp[i][j][k] = max(dp[i][j][k], dp[i-1][j][k - w[i-1]] + v[i-1])\n",
    "\n",
    "    return dp[n][c][c]\n",
    "    # print(\"\")\n",
    "\n",
    "V=[1,3,2,5,8,7]\n",
    "W=[1,3,2,5,8,7]\n",
    "c=7\n",
    "print(f\"最大价值：{Two_bag(V, W, c)}\")\n",
    "# your algorithm time complexity is: O(nc^2)"
   ],
   "outputs": [
    {
     "name": "stdout",
     "output_type": "stream",
     "text": [
      "最大价值：14\n"
     ]
    }
   ],
   "execution_count": 7
  },
  {
   "cell_type": "markdown",
   "metadata": {},
   "source": [
    "## 问题 10 \n",
    "\n",
    "> 给定两个字符串 $x[1..n]$ 和 $y[1..m]$，我们想通过以下操作将 $x$ 变换为 $y$ :\n",
    ">\n",
    "> **插入**：在 $x$ 中插入一个字符(在任何位置)；**删除**：从 $x$ 中删除一个字符(在任何位置)； **替换**：用另一个字符替换 $x$ 中的一个字符。\n",
    ">\n",
    "> 例如: $x = abcd$, $y = bcfe$，\n",
    ">\n",
    "> - 将 $x$ 转换为 $y$ 的一种可能方法是：1. 删除 $x$ 开头的 $a$, $x$变成 $bcd$； 2. 将 $x$ 中的字符 $d$ 替换为字符 $f$。$x$ 变成 $bcf$； 3. 在 $x$ 的末尾插入字符 $e$。$x$ 变成 $bcfe$。\n",
    ">\n",
    "> - 另一种可能的方法：1. 删除 $x$ 开头的 $a$,  $x$ 变成 $bcd$； 2. 在 $x$ 中字符 $d$ 之前插入字符 $f$。$x$ 变成 $bcfd$。3. 将 $x$ 中的字符 $d$ 替换为字符 $e$。$x$ 变成 $bcfe$。\n",
    "\n",
    "设计一个时间复杂度为 $O(mn)$ 的算法，返回将 $x$ 转换为 $y$ 所需的最少操作次数。分析算法设计思路，并基于python编程实现。\n"
   ]
  },
  {
   "cell_type": "markdown",
   "metadata": {},
   "source": [
    "idea：本题参考了大模型给的动态规划法的思路。\n",
    "算法设计思路：dp[i][j]表示从字符串1..i到字符串1..j所需要的最少操作次数。状态转移方程为：①如果字符x[i]==y[j]，则不需要进行操作，故dp[i][j]=dp[i-1][j-1]；②如果字符x[i]！=y[j]，则dp[i][j]=1+min(dp[i−1][j],dp[i][j−1],dp[i−1][j−1])，分别对应删除、插入和替换操作。初始化：dp[0][j]=j表示空字符串转为y[1..j]需要j次插入操作，dp[i][0]表示字符串x[1..i]=i转为空字符串需要i次删除操作。最后输出dp[len(x)][len(y)]即为最终结果-最少操作次数。\n",
    "时间复杂度：代码只有两层循环，故T（n）=O（len_x）*O（len_y）=O(mn)"
   ]
  },
  {
   "cell_type": "code",
   "metadata": {
    "ExecuteTime": {
     "end_time": "2025-04-23T09:03:35.446790Z",
     "start_time": "2025-04-23T09:03:35.434795Z"
    }
   },
   "source": [
    "# add your idea here\n",
    "def min_operation(x, y):\n",
    "    len_x = len(x)\n",
    "    len_y = len(y)\n",
    "    \n",
    "    dp = []\n",
    "    \n",
    "    for i in range(len_x+1):\n",
    "        dp.append([])\n",
    "        for j in range(len_y+1):\n",
    "            dp[i].append([])\n",
    "    \n",
    "    for i in range(len_x+1):\n",
    "        dp[i][0] = i\n",
    "    for j in range(len_y+1):\n",
    "        dp[0][j] = j\n",
    "    \n",
    "    for i in range(1,len_x+1):\n",
    "        for j in range(1,len_y+1):\n",
    "            if x[i-1] == y[j-1]:\n",
    "                dp[i][j] = dp[i-1][j-1]\n",
    "            else:\n",
    "                dp[i][j] = 1 + min(dp[i-1][j], dp[i][j-1], dp[i-1][j-1])\n",
    "                \n",
    "    return dp[len_x][len_y]\n",
    "\n",
    "x = \"abcd\"\n",
    "y = \"bcfe\"\n",
    "print(f\"最小修改次数：{min_operation(x, y)}\")\n",
    "\n",
    "        \n",
    "# your algorithm time complexity is: O(mn)"
   ],
   "outputs": [
    {
     "name": "stdout",
     "output_type": "stream",
     "text": [
      "最小修改次数：3\n"
     ]
    }
   ],
   "execution_count": 9
  }
 ],
 "metadata": {
  "language_info": {
   "name": "python"
  },
  "kernelspec": {
   "name": "python3",
   "language": "python",
   "display_name": "Python 3 (ipykernel)"
  }
 },
 "nbformat": 4,
 "nbformat_minor": 2
}
