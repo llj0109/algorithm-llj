{
 "cells": [
  {
   "cell_type": "markdown",
   "metadata": {},
   "source": [
    "## algorithm design and anlysis-2025 spring  homework 1 \n",
    "**Deadline**：2025.5.14\n",
    "\n",
    "**name**:\n",
    "\n",
    "\n",
    "note：\n",
    "---\n",
    "1. 带有\\*的题目，申请免上课的同学，必须完成，其他同学选作；\n",
    "2. 请独立完成，如求助了他人或者大模型，请著明，并且不可省略算法分析部分；\n",
    "4. 如若作答有雷同，全部取消成绩；\n",
    "3. 需要书面作答的题目，可以通过引用图片的形式添加，但是注意上传项目时包含所引用的图片的源文件；\n",
    "4. $log_n$ 默认表示$log_2{n}$;"
   ]
  },
  {
   "cell_type": "markdown",
   "metadata": {},
   "source": [
    "## 问题 1\n",
    "\n",
    "对于下面的每一对表达式(A, B), A是否能表示为B的 $\\Theta, \\Omega ,O$形式. 请注意, 这些关系中的零个、一个或多个可能成立。列出所有正确的。经常发生一些学生会,把指示写错, 所以请把关系写完整, 例如: $A = O(B),  A =\\Theta(B)$, 或$A = \\Omega(B)$。\n",
    "\n",
    "1. $A=n^2-100n, B=n^2$\n",
    "2. $A=logn, B=log_{1.2}n$\n",
    "3. $A=3^{2n}, B=2^{4n}$\n",
    "4. $A=2^{logn}, B=n$\n",
    "5. $A=\\log{\\log}{n},B=10^{10^{100}}$"
   ]
  },
  {
   "cell_type": "markdown",
   "metadata": {},
   "source": [
    "can refer a handwritten picture, pleas upload the picture in /fig/xxx.png\n",
    "answer\n",
    "\n",
    "![figure](./fig/1-1.png)\n"
   ]
  },
  {
   "cell_type": "markdown",
   "metadata": {},
   "source": [
    "## 问题 2：\n",
    "\n",
    "假设有函数 $f$ 和 $g$ 使得 $f(n)$ = $O(g(n))$ 对于下面的每一个陈述, 请判断对错, 如果正确请给出证明, 否则请给出一个反例。\n",
    "\n",
    "1. $\\log{f(n)}$ = $O(\\log(1+g(n)))$\n",
    "2. $3^{f(n)}=O(3^{g(n)})$\n",
    "3. $(f(n))^2=O((g(n))^2)$ "
   ]
  },
  {
   "cell_type": "markdown",
   "metadata": {},
   "source": [
    "you can refer a handwritten picture, pleas upload the picture in /fig/xxx.png\n",
    "answer:\n",
    "\n",
    "![figure](./fig/1-2_1.png)\n",
    "\n",
    "![figure](./fig/1-2_2.png)"
   ]
  },
  {
   "cell_type": "markdown",
   "metadata": {},
   "source": [
    "## 问题 3\n",
    "\n",
    "根据下列递归公式, 计算下列 $T(n)$ 对应的的渐近上界。要求所求的边界尽可能的紧（tight）, 请写明步骤。\n",
    "\n",
    "1. $T(1)=1; T(n)=T(n/4)+1$ for $n>1$\n",
    "2. $T(1)=1;T(n)=3T(n/3)+n^2$ for $n>1$\n",
    "3. $T(1)=1;T(n)=T(2n/3)+1$ for $n>1$\n",
    "4. $T(1)=1;T(n)=5T(n/4)+n$ for $n>1$\n",
    "5. $T(n)=1 \\ for\\ n \\le 2 ; T(n)=T(\\sqrt{n})+1 \\ for \\ n>2$"
   ]
  },
  {
   "cell_type": "markdown",
   "metadata": {},
   "source": [
    "can refer a handwritten picture, pleas upload the picture in /fig/xxx.png\n",
    "answer:\n",
    "\n",
    "![figure](./fig/1-3.png)"
   ]
  },
  {
   "cell_type": "markdown",
   "metadata": {},
   "source": [
    "## 问题 4：\n",
    "\n",
    "给定一个包含n个元素的数组 `profits` , 它的第 `i` 个元素 `profits[i]` 表示一支股票第 `i` 天的**收益**（正数表示涨, 负数表示跌）。你只能选择 **某一天** 买入这只股票, 并选择在 **未来的某一个不同的日子** 卖出该股票。\n",
    "\n",
    "1. 设计一个算法来计算你所能获取的最大利润和对应买入和卖出的日期。请分析算法方案, 计算其时间复杂度, 并且使用python编程实现该算法。\n",
    "\n",
    "2. \\* 设计一个时间复杂度为 $O(n)$的算法实现该算法\n",
    "\n",
    "e.g. :\n",
    "---\n",
    "profits=[3,2,1,-7,5,2,-1,3,-1], 第5天买入, 第8天卖出, 收益最大：9\n",
    "\n"
   ]
  },
  {
   "cell_type": "markdown",
   "metadata": {},
   "source": [
    "idea:使用的暴力遍历法，使用两个指针i和j，i表示买入股票的日子，j表示卖出的日子，max_sum表示获取的最大利润，使用temp来暂时记录买入和卖出股票的收益，一旦temp超过了全局的最大收益就更新收益和买入卖出的日子\n",
    "\n",
    "时间复杂度分析：第一层for循环时间复杂度为O(n)，第二层for循环的时间复杂度为O(n)，总体的时间复杂度为T(n)=O(n)*O(n)=O(n^2)"
   ]
  },
  {
   "cell_type": "code",
   "metadata": {
    "ExecuteTime": {
     "end_time": "2025-04-08T07:30:45.237259Z",
     "start_time": "2025-04-08T07:30:43.488424Z"
    }
   },
   "source": [
    "# add your code\n",
    "def max_profit(profits):\n",
    "    \n",
    "    lenth = len(profits)\n",
    "    temp_sum = 0\n",
    "    buy_day = -1\n",
    "    sold_day = -1\n",
    "    max_sum = 0\n",
    "    \n",
    "    for i in range(lenth):\n",
    "        for j in range(i, lenth):\n",
    "                temp_sum = temp_sum + profits[j]\n",
    "                if temp_sum > max_sum:\n",
    "                    max_sum = temp_sum\n",
    "                    buy_day = i\n",
    "                    sold_day = j\n",
    "                \n",
    "        temp_sum = 0\n",
    "    \n",
    "    return max_sum, buy_day, sold_day\n",
    "\n",
    "profits = input()\n",
    "profits = [int(n) for n in profits.split(',')]\n",
    "max_sum, buy_day, sold_day = max_profit(profits)\n",
    "print(f\"profits={profits}, max_sum={max_sum}, buy_day={buy_day+1}, sold_day={sold_day+1}\")"
   ],
   "outputs": [
    {
     "name": "stdout",
     "output_type": "stream",
     "text": [
      "profits=[3, 2, 1, -7, 5, 2, -1, 3, -1], max_sum=9, buy_day=5, sold_day=8\n"
     ]
    }
   ],
   "execution_count": 6
  },
  {
   "cell_type": "code",
   "execution_count": null,
   "metadata": {},
   "outputs": [],
   "source": [
    "# an algorithm with O(n)"
   ]
  },
  {
   "cell_type": "markdown",
   "metadata": {},
   "source": [
    "## 问题 5：\n",
    "\n",
    "观察下方的分治算法（divide-and-conquer algorithm）的伪代码, 回答下面问题\n",
    "\n",
    "```latex\n",
    "DoSomething(A,p,r)\n",
    "-----\n",
    "n := r-p+1\n",
    "if n=2 and A[p]>A[r] then\n",
    "    swap A[p] and A[r]\n",
    "else if n >= 3 then\n",
    "    m = ceil(2n/3)\n",
    "    DoSomething(A,p,p+m-1)\n",
    "    DoSomething(A,r-m+1,r)\n",
    "    DoSomething(A,p,p+m-1)  \n",
    "    \n",
    "---\n",
    "first call: DoSomething(A,1,n)\n",
    "```\n",
    "\n",
    "note：$ceil(2n/3)=\\left\\lceil {2n/3} \\right\\rceil$；$:=$ 表示赋值, 等价于 $\\to$；A是一个包含n的整数元素的数组, \n",
    "\n",
    "1. 写出该算法时间复杂度的递归公式, 并求解其对应的渐进表示\n",
    "2. 描述一下该算法的功能, 并判断是否是最高效的解决方案\n",
    "3. 使用python编程实现上述算法或其对应的更高效版本的算法\n"
   ]
  },
  {
   "cell_type": "markdown",
   "metadata": {},
   "source": [
    "idea："
   ]
  },
  {
   "cell_type": "markdown",
   "metadata": {},
   "source": [
    "answer:\n",
    "1. 如图\n",
    "\n",
    "![figure](./fig/1-5.png)\n",
    "\n",
    "2. 该算法的功能是对数组A在范围[p,r]内进行排序，当子数组的长度为2的时候直接进行对比交换位置，当子数组的长度大于2的时候将数组A进行2/3划分，前2/3进行一次排序，后2/3再进行一次排序，因为有重复，所以最后还要对前2/3进行一次排序。不是最高效的解决方案，最高效的排序方法还有快速排序方法等。"
   ]
  },
  {
   "cell_type": "code",
   "metadata": {
    "ExecuteTime": {
     "end_time": "2025-04-08T10:55:32.176298Z",
     "start_time": "2025-04-08T10:55:32.160271Z"
    }
   },
   "source": [
    "# add your code here\n",
    "def DoSomething(A, p, r):\n",
    "    n = r - p + 1\n",
    "    if n==2 and A[p]>A[r]:\n",
    "        temp = A[p]\n",
    "        A[p] = A[r]\n",
    "        A[r] = temp\n",
    "    elif n>=3:\n",
    "        ceil = 2 * n + 2 # 向上取整需要加个2\n",
    "        m = ceil // 3\n",
    "        DoSomething(A, p, p+m-1)\n",
    "        DoSomething(A, r-m+1, r)\n",
    "        DoSomething(A, p, p+m-1)\n",
    "\n",
    "A = [5, 4, 3, 2, 1]\n",
    "DoSomething(A, 0, len(A)-1)\n",
    "print(f\"排序后的数组：{A}\")\n",
    "# your algorithm time complexity is : O(n^2.7)"
   ],
   "outputs": [
    {
     "name": "stdout",
     "output_type": "stream",
     "text": [
      "排序后的数组：[1, 2, 3, 4, 5]\n"
     ]
    }
   ],
   "execution_count": 7
  },
  {
   "cell_type": "markdown",
   "metadata": {},
   "source": [
    "## 问题 6：\n",
    "\n",
    "给定一个大小为 `n` 的数组 `nums` , 返回其中的多数元素。多数元素是指在数组中出现次数 **大于** `⌊ n/2 ⌋` 的元素。\n",
    "\n",
    "你可以假设数组是非空的, 并且给定的数组总是存在多数元素。\n",
    "\n",
    "1. 设计一个算法找到给定数组的多数元素, 分析算法设计思路, 计算算法时间复杂度, 使用python编程实现\n",
    "2. \\* 设计时间复杂度为 O(n)、空间复杂度为 O(1) 的算法解决此问题, 分析算法设计思路, 使用python编程实现\n",
    "\n",
    "e.g.:\n",
    "---\n",
    "1. nums=[3,2,3], 返回3\n",
    "2. nums=[2,2,1,1,1,2,2], 返回2\n"
   ]
  },
  {
   "cell_type": "markdown",
   "metadata": {},
   "source": [
    "idea：使用暴力遍历法，依次计算数组每个个体的个数，只要超过计算的个数就可以停止返回结果\n",
    "\n",
    "时间复杂度：第一层for循环的时间复杂度为O(n)，第二层同样也为O(n)，所以总的时间复杂度T(n)=O(n)*O(n)=O(n^2)"
   ]
  },
  {
   "cell_type": "code",
   "metadata": {
    "ExecuteTime": {
     "end_time": "2025-04-08T11:14:08.843510Z",
     "start_time": "2025-04-08T11:14:08.827796Z"
    }
   },
   "source": [
    "# add your code here\n",
    "def search(nums):\n",
    "    n = len(nums)\n",
    "    ans_num = n // 2\n",
    "    for i in range(n):\n",
    "        count = 0\n",
    "        for j in range(n):\n",
    "            if nums[i] == nums[j]:\n",
    "                count = count + 1\n",
    "            if count > ans_num:\n",
    "                return nums[i]\n",
    "    return -1\n",
    "\n",
    "nums = [3, 2, 3]\n",
    "print(f\"ans={search(nums)}\")\n",
    "nums = [2,2,1,1,1,2,2]\n",
    "print(f\"ans={search(nums)}\")\n",
    "# your algorithm time complexity is : O(n^2)"
   ],
   "outputs": [
    {
     "name": "stdout",
     "output_type": "stream",
     "text": [
      "ans=3\n",
      "ans=2\n"
     ]
    }
   ],
   "execution_count": 9
  },
  {
   "cell_type": "markdown",
   "metadata": {},
   "source": [
    "idea for 2\\*："
   ]
  },
  {
   "cell_type": "code",
   "execution_count": null,
   "metadata": {},
   "outputs": [],
   "source": [
    "# algorithm time complexity：O(n), space complexity:O(1)\n",
    "# add your code here"
   ]
  },
  {
   "cell_type": "markdown",
   "metadata": {},
   "source": [
    "## 问题 7：\n",
    "\n",
    "给定一个包含不同整数元素的数组 $ A[1..n]$ ,并且满足条件：$A[1]>A[2]$ 并且 $A[n-1]<A[n]$; 规定：如果一个元素比它两边的邻居元素都小, 即：$A[x]<A[x-1], A[x]<A[x+1]$ , 称这个元素A[x]为“局部最小”。通过遍历一次数组, 我们可以很容易在 $O(n)$的时间复杂度下找到一个局部最小值, \n",
    "\n",
    "\n",
    "1. 分析该问题, 设计一个算法在$O(logn)$的时间复杂度下找到一个局部最小(返回数值), 要求：分析算法设计思路, 并且使用python编程实现\n",
    "2. \\* 设计算法找出所有局部最小值, 分析算法设计思路, 并使用python编程实现\n",
    "\n",
    "e.g.:\n",
    "---\n",
    "A=[9, 3, 7, 2, 1, 4, 5 ] 时,  局部最小元素为 3, 1\n"
   ]
  },
  {
   "cell_type": "markdown",
   "metadata": {},
   "source": [
    "idea：因为要求时间复杂度为O(logn)，所以不能使用暴力遍历法，故使用二分法进行查找。\n",
    "\n",
    "通过题干条件可以发现，两边至少会存在一个局部最小值，这也证实了二分法的使用是可行的\n",
    "首先检查中间元素是否为局部最小值，如果不是则对中间元素的两边进行判断，如果中间元素大于左边的邻居元素，则局部最小值会在左边，故将右指针right指向左边的邻居元素；同理，中间元素小于右边的邻居元素，则局部最小值在右边，故将左指针left指向右边的邻居元素。然后就是重复这个过程。"
   ]
  },
  {
   "cell_type": "code",
   "metadata": {
    "ExecuteTime": {
     "end_time": "2025-05-06T10:48:44.519979Z",
     "start_time": "2025-05-06T10:48:44.506983Z"
    }
   },
   "source": [
    "# add your code here\n",
    "def find_local_min(A):\n",
    "    n = len(A)\n",
    "    left = 0\n",
    "    right = len(A)-1\n",
    "    while left <= right:\n",
    "        mid = (left + right) // 2\n",
    "        if A[mid] < A[mid+1] and A[mid] < A[mid-1]:\n",
    "            return A[mid]\n",
    "        elif A[mid] > A[mid-1]:\n",
    "            right = mid - 1\n",
    "        else:\n",
    "            left = mid + 1\n",
    "\n",
    "A = [9, 3, 7, 2, 1, 4, 5 ]\n",
    "print(f\"ans={find_local_min(A)}\")\n",
    "# your algorithm time complexity is : O(logn)"
   ],
   "outputs": [
    {
     "name": "stdout",
     "output_type": "stream",
     "text": [
      "ans=1\n"
     ]
    }
   ],
   "execution_count": 4
  },
  {
   "cell_type": "markdown",
   "metadata": {},
   "source": [
    "## 问题 8：\n",
    "\n",
    "给定包含n个不同数字的一组数, 寻找一种基于比较的算法在这组数中找到k个最小的数字, 并按顺序输出它们。\n",
    "\n",
    "1. 将n个数先进行排序, 然后按顺序输出最小的k个数。要求：选择合适的排序算法实现上述操作, 计算算法时间复杂度, 并使用python编程实现。\n",
    "2. 建立一个包含这n个数的堆（heap）, 并且调用 k 次Extract-min 按顺序输出最小的k个数。使用往空堆中不断插入元素的方法建立堆, 分析这种方法建堆的时间复杂度, 并使用python编程实现\n",
    "3. \\* 假设数组中包含的数据总数目超过了计算机的存储能力, 请设计一个算法, 找到这堆数据的前k小的数值, 计算时间复杂度, 并使用python实现该算法, 假设计算机一定能存储k个数据。\n",
    "\n",
    "e.g.：\n",
    "---\n",
    "数组arr=[5,4,3,2,6,1,88,33,22,107] 的前3个最小数据为：1, 2, 3\n"
   ]
  },
  {
   "cell_type": "markdown",
   "metadata": {},
   "source": [
    "idea：\n",
    "1. 将n个数进行排序的排序算法我选择的是冒泡排序法，第一层for循环执行n次，第二层for循环执行n次，故冒泡的时间复杂度为O(n^2)，按顺序输出最小的k个数，使用的是一层for循环，故时间复杂度为O(k)，故总的时间复杂度T(n)=O(n^2)+O(k)由于k为常数，所以T(n)=O(n^2)\n",
    "2. 算法设计：每次插入新的节点进入小堆的时候都要进行一次向上调整，依次比较父节点，如果小于父节点则进行调整，直至所有元素插入堆中。小堆构建完成后，每个节点的值都大于父节点的值，根节点为最小值。然后就是调用k次extract-min输出最小的k个数，采取的是每次都是输出根节点，然后将根节点与最末尾的叶子节点进行交换进行向下调整，再将交换后的根节点依次与左右孩子节点进行比较，如果大于则进行交换，直至遍历完成。向下调整结束以后又是一个最小堆，根节点又为最小的值。时间复杂度分析如图：\n",
    "\n",
    "![figure](./fig/1-8.png)"
   ]
  },
  {
   "cell_type": "code",
   "metadata": {
    "ExecuteTime": {
     "end_time": "2025-04-08T12:04:55.111919Z",
     "start_time": "2025-04-08T12:04:55.097466Z"
    }
   },
   "source": [
    "# add your code here 第一问\n",
    "def bubble_sort(A):\n",
    "    n = len(A)\n",
    "    for i in range(n):\n",
    "        for j in range(0, n-i-1):\n",
    "            if A[j] > A[j+1]:\n",
    "                temp = A[j]\n",
    "                A[j] = A[j+1]\n",
    "                A[j+1] = temp\n",
    "A = [5,4,3,2,6,1,88,33,22,107]\n",
    "k = 3\n",
    "bubble_sort(A)\n",
    "for i in range(k):\n",
    "    print(A[i])\n",
    "# your algorithm time complexity is :"
   ],
   "outputs": [
    {
     "name": "stdout",
     "output_type": "stream",
     "text": [
      "1\n",
      "2\n",
      "3\n"
     ]
    }
   ],
   "execution_count": 13
  },
  {
   "metadata": {
    "ExecuteTime": {
     "end_time": "2025-05-06T05:51:41.573506Z",
     "start_time": "2025-05-06T05:51:41.561506Z"
    }
   },
   "cell_type": "code",
   "source": [
    "# 第二问\n",
    "class Heap:\n",
    "    def __init__(self):\n",
    "        self.heap = []\n",
    "        self.size = 0\n",
    "\n",
    "    def parent(self, i):\n",
    "        return (i - 1) // 2\n",
    "\n",
    "    def left_child(self, i):\n",
    "        return 2 * i + 1\n",
    "\n",
    "    def right_child(self, i):\n",
    "        return 2 * i + 2\n",
    "\n",
    "    def insert(self, value):\n",
    "        self.heap.append(value)\n",
    "        self.size += 1\n",
    "        self.up_adjust(self.size - 1) \n",
    "\n",
    "    def up_adjust(self, i):\n",
    "        while i > 0 and self.heap[self.parent(i)] > self.heap[i]:\n",
    "            self.heap[self.parent(i)], self.heap[i] = self.heap[i], self.heap[self.parent(i)]\n",
    "            i = self.parent(i)\n",
    "\n",
    "    def extract_min(self): \n",
    "        if self.size == 0:\n",
    "            return None\n",
    "        min_value = self.heap[0] \n",
    "        self.heap[0] = self.heap[self.size - 1] \n",
    "        self.size -= 1 \n",
    "        # self.heap.pop()\n",
    "        self.down_adjust(0) \n",
    "        return min_value\n",
    "\n",
    "    def down_adjust(self, i): \n",
    "        smallest = i\n",
    "        left = self.left_child(i)\n",
    "        right = self.right_child(i)\n",
    "\n",
    "        if left < self.size and self.heap[left] < self.heap[smallest]:\n",
    "            smallest = left\n",
    "\n",
    "        if right < self.size and self.heap[right] < self.heap[smallest]:\n",
    "            smallest = right\n",
    "\n",
    "        if smallest != i:\n",
    "            self.heap[i], self.heap[smallest] = self.heap[smallest], self.heap[i]\n",
    "            self.down_adjust(smallest)\n",
    "\n",
    "if __name__ == \"__main__\":\n",
    "    arr = [5, 4, 3, 2, 6, 1, 88, 33, 22, 107]\n",
    "    k = 3\n",
    "\n",
    "    heap = Heap()\n",
    "    for num in arr:\n",
    "        heap.insert(num)\n",
    "\n",
    "    for i in range(k): \n",
    "        print(heap.extract_min())"
   ],
   "outputs": [
    {
     "name": "stdout",
     "output_type": "stream",
     "text": [
      "1\n",
      "2\n",
      "3\n"
     ]
    }
   ],
   "execution_count": 2
  },
  {
   "cell_type": "markdown",
   "metadata": {},
   "source": [
    "## 问题 9：\n",
    "\n",
    "**选择问题**:给定一个包含n个未排序值的数组A和一个$k≤n$的整数, 返回A中最小的第k项。\n",
    "\n",
    "在课堂上, 学了一个简单的O(n)随机算法来解决选择问题。事实上还有一种更复杂的最坏情况下时间复杂度为$O(n)$ 的选择算法。假设使用一个黑盒过程来实现这个O(n)选择算法: 给定一个数组A、 $p < r$ 和 k,  $BB(A, p, r, k)$ 可以在$O(r−p+ 1)$时间内找到并报告$A[p..r]$中第k小的项的下标。假设你可以在线性时间内处理Partition过程。\n",
    "\n",
    "1. 请分析如何修改 Quicksork 算法可以使其最差情况下的运行时间为 $O(nlogn)$, 使用伪代码实现, 并分析为何修改后的版本最差情况的运行时间为$O(nlogn)$\n",
    "\n",
    "note: 伪代码中, 你可以直接调用用` BB(A,p,r,k)`这个函数用于表示在最坏情况下时间复杂度为$O(n)$的选择算法；\n",
    "\n",
    "\n",
    "\n",
    "2. 找到一个更好的算法报告数组A中的前k小的项, 使用伪代码表示你的算法, 并分析你算法的时间复杂度。\n",
    "\n",
    "举例：A=[13, 3, 7, 9, 11, 1, 15, 2, 8, 10, 12, 16, 14, 5], 当k=4时, 应该报告1, 2, 3, 4\n",
    "\n",
    "note： 最直观的方法就是先将数组A排序, 然后从左向右报告其前k项, 这样操作的时间复杂度为$O(nlogn)$. 调用用` BB(A,p,r,k)`设计一个算法使其报告无序数组A的前k项, 满足时间复杂度好于$\\Theta(nlogn)$, 并且当$k=\\sqrt{n}$时, 你设计的算法时间复杂度应该为$\\Theta(n)$.\n",
    "\n",
    "\n",
    "\n",
    "3. 给定一个大小为n的数组, 找到一个 时间复杂度为$O(n log k)$ 的算法, 该算法将A中的元素重新排序, 使它们被划分为k个部分, 每个部分的元素小于或等于下一部分的元素。假设n和k都是2的幂。使用伪代码表示你的算法, 并分析时间复杂度。\n",
    "\n",
    "e.g.:\n",
    "---\n",
    "数组：[1,  3,  5,  7,  9,  11,  13,  15,  2,  4,  6,  8,  10,  12,  16,  14], k=4, \n",
    "\n",
    "对应重新排序的数组为：[1,  3,  2,  4]  [7,  6,  5,  8]  [12,  11,  10,  9]  [13,  14,  16,  15]\n",
    "\n",
    "\n"
   ]
  },
  {
   "cell_type": "markdown",
   "metadata": {},
   "source": [
    "idea：此题参考了大模型所给的思路。\n",
    "第一问：\n",
    "使用黑盒选择算法来选择中位数作为pivot，用以确保每次划分都能将数组均匀分成两部分进行。时间复杂度分析：每次递归都能将数组分成两半，递归的深度为logn，每一层需要O（n）的时间复杂度，故总的时间复杂度T（n）=O（nlogn）\n",
    "\n",
    "第二问：\n",
    "使用黑盒选择算法BB算法来找到第k小的元素，然后遍历数组收集所有小于等于该元素的元素项。时间复杂度：黑盒选择算法为O（n），遍历收集小于第k个元素的元素：O（n），故总的时间复杂度T（n）=O（n）+O（n）=O（n）；\n",
    "\n",
    "\n",
    "第三问：\n",
    "借鉴归并排序算法的思想，进行logk层的划分。使用黑盒选择算法找到每一层的划分点，然后递归地对左右两个部分进行处理，直到划分出k个部分就停止。时间复杂度：每一层递归时，黑盒选择算法O（n），Partition操作O（n），总计O（n）；递归的深度，每次将k减半，直到k=1，故深度为logk；故总的时间复杂度T（n）=O（n）*O（logk）=O（nlogk）"
   ]
  },
  {
   "cell_type": "code",
   "execution_count": null,
   "metadata": {},
   "outputs": [],
   "source": [
    "# add your pseudo-code here\n",
    "# 第一问\n",
    "ModifiedQuickSort(A, p, r):\n",
    "    if p < r:\n",
    "        median_index = BB(A, p, r, (r-p+1)/2)\n",
    "        swap(A[median_index], A[r])         \n",
    "        q = Partition(A, p, r)  \n",
    "        ModifiedQuickSort(A, p, q-1)\n",
    "        ModifiedQuickSort(A, q+1, r)\n",
    "\n",
    "# 第二问\n",
    "FindTopK(A, k):\n",
    "    n = length(A)\n",
    "\n",
    "    kth_element = BB(A, 0, n-1, k)\n",
    "\n",
    "    result = []\n",
    "    count = 0\n",
    "    for element in A:\n",
    "        if element < kth_element:\n",
    "            result.append(element)\n",
    "            count += 1\n",
    "    \n",
    "    return result\n",
    "\n",
    "\n",
    "\n",
    "# 第三问\n",
    "KWayPartition(A, p, r, k):\n",
    "    if k == 1:\n",
    "        return  \n",
    "    \n",
    "    mid = p + (r - p + 1) // 2\n",
    "    \n",
    "    pivot = BB(A, p, r, mid - p + 1)\n",
    "    \n",
    "    q = Partition(A, p, r, pivot)\n",
    "    \n",
    "    KWayPartition(A, p, q, k//2)\n",
    "    KWayPartition(A, q+1, r, k//2)"
   ]
  },
  {
   "cell_type": "markdown",
   "metadata": {},
   "source": [
    "## 问题 10：\n",
    "\n",
    "给定一个包含m个**字符串**的数组A, 其中不同的字符串可能有不同的字符数, 但数组中所有字符串的字符总数为n。设计一个算法在 $O(n)$ 时间内对字符串进行排序, 分析算法设计方案, 计算其时间复杂度, 并基于python编程实现该算法。请注意, 假设字符串只包含\"a\",\"b\",...,\"z\", \n",
    "\n",
    "\n",
    "\n",
    "举例1：数组A=[\"a\", \"da\", \"bde\", \"ab\", \"bc\", \"abdc\", \"cdba\"], 排序后的数组应该为：['a', 'ab', 'abdc', 'bc', 'bde', 'cdba', 'da']\n",
    "\n",
    "\n",
    "\n",
    "举例2：数组A=['ab', 'a', 'b', 'abc', 'ba', 'c'], 排序后的数组应该为：\n",
    "\n",
    "['a', 'ab', 'abc', 'b', 'ba', 'c']\n",
    "\n",
    "\n",
    "\n",
    "举例3：数组A=['aef', 'yzr', 'wr', 'ab', 'bhjc', 'lkabdc', 'pwcdba'],  排序后的数组应该为：['ab', 'aef', 'bhjc', 'lkabdc', 'pwcdba', 'wr', 'yzr']\n",
    "\n",
    "\n",
    "\n",
    "note：\n",
    "\n",
    "-  两个字符之间的比较可以考虑比较他们对应的ASCII码值；\n",
    "- python中可以使用`ord(\"a\")`返回字符 “a”对应的ASCII值"
   ]
  },
  {
   "cell_type": "markdown",
   "metadata": {},
   "source": "idea: 经查阅O(n)的排序算法有桶排序、计数排序、基数排序，基于字符的范围为26个字母以内，即数据范围不大，故适用于计数排序。"
  },
  {
   "cell_type": "code",
   "metadata": {
    "ExecuteTime": {
     "end_time": "2025-05-06T05:52:57.591142Z",
     "start_time": "2025-05-06T05:52:57.572143Z"
    }
   },
   "source": [
    "# add your code here\n",
    "def CountSort(A):\n",
    "    max_len = -1\n",
    "    for s in A:\n",
    "        if max_len < len(s):\n",
    "            max_len = len(s)\n",
    "\n",
    "    for i in range(max_len-1, -1, -1):\n",
    "        count = []\n",
    "        for _ in range(27):\n",
    "            count.append([])\n",
    "\n",
    "        for s in A:         \n",
    "            if i < len(s):\n",
    "                char = s[i]\n",
    "                index = ord(char)-ord('a')+1 \n",
    "            else:\n",
    "                index = 0 \n",
    "            count[index].append(s)\n",
    "        A_new = []\n",
    "        for small_count in count:\n",
    "            for s in small_count:\n",
    "                A_new.append(s)\n",
    "        A = A_new\n",
    "        # print(A_new)\n",
    "\n",
    "    return A_new\n",
    "\n",
    "A1 = [\"a\", \"da\", \"bde\", \"ab\", \"bc\", \"abdc\", \"cdba\"]\n",
    "A2 = ['ab', 'a', 'b', 'abc', 'ba', 'c']\n",
    "A3 = ['aef', 'yzr', 'wr', 'ab', 'bhjc', 'lkabdc', 'pwcdba']\n",
    "print(CountSort(A1))\n",
    "print(CountSort(A2))\n",
    "print(CountSort(A3))"
   ],
   "outputs": [
    {
     "name": "stdout",
     "output_type": "stream",
     "text": [
      "['a', 'ab', 'abdc', 'bc', 'bde', 'cdba', 'da']\n",
      "['a', 'ab', 'abc', 'b', 'ba', 'c']\n",
      "['ab', 'aef', 'bhjc', 'lkabdc', 'pwcdba', 'wr', 'yzr']\n"
     ]
    }
   ],
   "execution_count": 3
  }
 ],
 "metadata": {
  "language_info": {
   "name": "python"
  },
  "kernelspec": {
   "name": "python3",
   "language": "python",
   "display_name": "Python 3 (ipykernel)"
  }
 },
 "nbformat": 4,
 "nbformat_minor": 2
}
