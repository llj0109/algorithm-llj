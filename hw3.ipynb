{
 "cells": [
  {
   "cell_type": "markdown",
   "metadata": {},
   "source": [
    "## algorithm design and anlysis-2025 spring  homework 3\n",
    "**Deadline**：2025.5.14\n",
    "\n",
    "**name**:\n",
    "\n",
    "\n",
    "note：\n",
    "---\n",
    "1. 带有\\*的题目，申请免上课的同学，必须完成，其他同学选作；\n",
    "2. 请独立完成，如求助了他人或者大模型，请著明，并且不可省略算法分析部分；\n",
    "4. 如若作答有雷同，全部取消成绩；\n",
    "3. 需要书面作答的题目，可以通过引用图片的形式添加，但是注意上传项目时包含所引用的图片的源文件；\n",
    "4. $log_n$ 默认表示$log_2{n}$;"
   ]
  },
  {
   "cell_type": "markdown",
   "metadata": {},
   "source": [
    "## 问题 1  \n",
    "\n",
    "请证明基于比较的排序算法计算复杂度下界为$\\Omega(nlogn)$"
   ]
  },
  {
   "cell_type": "markdown",
   "metadata": {},
   "source": [
    "you can refer a handwritten picture, pleas upload the picture in /fig/xxx.png\n",
    "answer：\n",
    "\n",
    "![figure](./fig/3-1.png)"
   ]
  },
  {
   "cell_type": "markdown",
   "metadata": {},
   "source": [
    "## 问题 2 \n",
    "\n",
    "构建二叉搜索树\n",
    "\n",
    "> 1. 给定一个数组 [48, 33, 49, 47, 42, 46, 32], 构建一个二叉搜索树存储这些数据，请**绘制**所构建的**二叉搜索树**（标明结点的值）。\n",
    "> 2. 从第1问的二叉搜索树中删除33，请**绘制**删除33后的**二叉搜索树**（标明结点的值）\n",
    "\n",
    "- 推荐使用graphviz包绘制树的结构"
   ]
  },
  {
   "cell_type": "markdown",
   "metadata": {},
   "source": [
    "you can refer a handwritten picture, pleas upload the picture in /fig/xxx.png\n",
    "\n",
    "answer：由于graphviz包在Windows上始终安装不成功，故使用递归打印输出树的结构。右子树在上，根在中间，左子树在下。"
   ]
  },
  {
   "metadata": {
    "ExecuteTime": {
     "end_time": "2025-04-23T12:30:21.026508Z",
     "start_time": "2025-04-23T12:30:20.982504Z"
    }
   },
   "cell_type": "code",
   "source": [
    "# add your idea here\n",
    "# add your idea here\n",
    "from graphviz import Digraph\n",
    "\n",
    "\n",
    "class Node:\n",
    "    def __init__(self, val):\n",
    "        self.val = val\n",
    "        self.parent = None\n",
    "        self.left = None\n",
    "        self.right = None\n",
    "\n",
    "\n",
    "class Tree:\n",
    "    def __init__(self, root=None):\n",
    "        self.root = root\n",
    "\n",
    "    def is_empty(self):\n",
    "        if self.root is None:\n",
    "            return True\n",
    "        else:\n",
    "            return False\n",
    "\n",
    "\n",
    "def insert(self, val):\n",
    "    node = Node(val)\n",
    "    if self.is_empty():\n",
    "        self.root = node\n",
    "    else:\n",
    "        parent = self.root\n",
    "        while True:\n",
    "            if val < parent.val:\n",
    "                if parent.left is None:\n",
    "                    parent.left = node\n",
    "                    break\n",
    "                else:\n",
    "                    parent = parent.left\n",
    "            elif val >= parent.val:\n",
    "                if parent.right is None:\n",
    "                    parent.right = node\n",
    "                    break\n",
    "                else:\n",
    "                    parent = parent.right\n",
    "\n",
    "        node.parent = parent\n",
    "\n",
    "\n",
    "def delete(root, val):\n",
    "    if val < root.val:\n",
    "        root.left = delete(root.left, val)\n",
    "    elif val > root.val:\n",
    "        root.right = delete(root.right, val)\n",
    "    else:  # 四种情况 只有左子树/右子树 都没有 都有\n",
    "        if root.left is not None and root.right is not None:\n",
    "            # 找右子树最小节点\n",
    "            temp = root.right\n",
    "            while temp.left:\n",
    "                temp = temp.left\n",
    "            root.val = temp.val\n",
    "            root.right = delete(root.right, temp.val)\n",
    "        elif root.right is None and root.left is None:\n",
    "            root = None\n",
    "        elif root.left is None:\n",
    "            root = root.right\n",
    "        elif root.right is None:\n",
    "            root = root.left\n",
    "\n",
    "    return root\n",
    "\n",
    "\n",
    "def order(root):\n",
    "    if root is None:\n",
    "        return\n",
    "    order(root.left)\n",
    "    print(f\"{root.val}, \")\n",
    "    order(root.right)\n",
    "\n",
    "def print_tree(self):\n",
    "        \"\"\"以文本形式打印二叉树\"\"\"\n",
    "        if self.root is not None:\n",
    "            _print_tree(self.root, 0)\n",
    "\n",
    "def _print_tree(node, level):\n",
    "        if node is not None:\n",
    "            _print_tree(node.right, level + 1)\n",
    "            print(' ' * 4 * level + '->', node.val)\n",
    "            _print_tree(node.left, level + 1)\n",
    "\n",
    "\n",
    "nums = [48, 33, 49, 47, 42, 46, 32]\n",
    "tree = Tree()\n",
    "for num in nums:\n",
    "    insert(tree, num)\n",
    "print(\"原始二叉搜索树:\")\n",
    "print_tree(tree)\n",
    "\n",
    "rootNode = tree.root\n",
    "delete(rootNode, 33)\n",
    "\n",
    "print(\"\\n删除33后的二叉搜索树:\")\n",
    "print_tree(tree)\n",
    "\n",
    "order(rootNode)"
   ],
   "outputs": [
    {
     "name": "stdout",
     "output_type": "stream",
     "text": [
      "原始二叉搜索树:\n",
      "    -> 49\n",
      "-> 48\n",
      "        -> 47\n",
      "                -> 46\n",
      "            -> 42\n",
      "    -> 33\n",
      "        -> 32\n",
      "\n",
      "删除33后的二叉搜索树:\n",
      "    -> 49\n",
      "-> 48\n",
      "        -> 47\n",
      "            -> 46\n",
      "    -> 42\n",
      "        -> 32\n",
      "32, \n",
      "42, \n",
      "46, \n",
      "47, \n",
      "48, \n",
      "49, \n"
     ]
    }
   ],
   "execution_count": 1
  },
  {
   "cell_type": "markdown",
   "metadata": {},
   "source": [
    "## 问题 3 \n",
    "\n",
    "> 下面是九门课程的开始和结束时间:\n",
    ">\n",
    "> [(9:00,12:30), (11:00,14:00), (13:00, 14:30), (9:00,10:30),(13:00, 14:30),(14:00,16:30), (15:00,16:30), (15:00,16:30), (9:00,10:30)]\n",
    ">\n",
    "> 请使用贪婪算法为这九门课分配教室，要求在同一天内安排这些课，并且每个教室同一时间只能安排一门课。\n",
    "\n",
    "**请问最少需要几间教室，罗列出每个教室安排的课程**"
   ]
  },
  {
   "cell_type": "markdown",
   "metadata": {},
   "source": [
    "idea：参考课件14_Greedy-algorithms.pdf，使用贪心算法解决。关于最小堆heapq包的使用参考了大模型提供的用法。\n",
    "1. 算法设计思路：按课程开始时间的递增顺序进行讲课，将讲课分配到任何相容的教室。对课程先进行升序排序（即开始时间越早越在前面），对已安排活动的教室列表按照可用时间创建一个最小堆，每次迭代到新的课程的时候，判断最小堆的堆顶教室是否可用，可用的话就安排，不可用的话就新开一间教室进行课程，并将此教室加入最小堆。"
   ]
  },
  {
   "cell_type": "code",
   "metadata": {
    "vscode": {
     "languageId": "plaintext"
    },
    "ExecuteTime": {
     "end_time": "2025-05-06T02:25:24.030217Z",
     "start_time": "2025-05-06T02:25:24.005217Z"
    }
   },
   "source": [
    "# code：\n",
    "import heapq\n",
    "def min_rooms(courses):\n",
    "    if not courses:\n",
    "        return 0\n",
    "    sorted_courses = sorted(courses, key=lambda x: x[0])\n",
    "    heap = []\n",
    "    room_record = []\n",
    "\n",
    "    for start, end in sorted_courses:\n",
    "        if heap and heap[0][0] <= start:\n",
    "            earliest_end, room_idx = heapq.heappop(heap)\n",
    "            room_record[room_idx].append((start, end))\n",
    "            heapq.heappush(heap, (end, room_idx))\n",
    "        else:\n",
    "            room_idx = len(room_record)\n",
    "            room_record.append([(start, end)])\n",
    "            heapq.heappush(heap, (end, room_idx))\n",
    "    return room_record\n",
    "\n",
    "courses = [\n",
    "    (9, 12.5),\n",
    "    (11, 14),\n",
    "    (13, 14.5),\n",
    "    (9, 10.5),\n",
    "    (13, 14.5),\n",
    "    (14, 16.5),\n",
    "    (15, 16.5),\n",
    "    (15, 16.5),\n",
    "    (9, 10.5)\n",
    "]\n",
    "\n",
    "ans = min_rooms(courses)\n",
    "print(f\"最少需要的教室数量: {len(ans)}\")\n",
    "for i, room in enumerate(ans, 1):\n",
    "    print(f\"教室{i}:\")\n",
    "    for start, end in room:\n",
    "        start_hour = int(start)\n",
    "        start_min = int((start - start_hour) * 60)\n",
    "        end_hour = int(end)\n",
    "        end_min = int((end - end_hour) * 60)\n",
    "        print(f\"  {start_hour:02d}:{start_min:02d} - {end_hour:02d}:{end_min:02d}\")"
   ],
   "outputs": [
    {
     "name": "stdout",
     "output_type": "stream",
     "text": [
      "最少需要的教室数量: 3\n",
      "教室1:\n",
      "  09:00 - 12:30\n",
      "  13:00 - 14:30\n",
      "  15:00 - 16:30\n",
      "教室2:\n",
      "  09:00 - 10:30\n",
      "  11:00 - 14:00\n",
      "  14:00 - 16:30\n",
      "教室3:\n",
      "  09:00 - 10:30\n",
      "  13:00 - 14:30\n",
      "  15:00 - 16:30\n"
     ]
    }
   ],
   "execution_count": 1
  },
  {
   "cell_type": "markdown",
   "metadata": {},
   "source": [
    "## 问题 4 \n",
    "\n",
    "> 爬楼梯问题：假设爬楼梯时你每次只能爬一阶或者爬两阶，问爬上n阶的楼梯，你一共有多少种方法\n",
    "\n",
    "请设计算法完成该问题，分析算法设计思路，计算时间复杂度，并基于python编程实现"
   ]
  },
  {
   "cell_type": "markdown",
   "metadata": {},
   "source": [
    "idea：参照上课讲的，不推荐递归算法，因为递归算法存在大量的重复计算。故使用递推算法。\n",
    "算法设计：F(n)为n阶楼梯的方法数，递推公式为F(n)=F(n-1)+F(n-2)，并且F(1)=1,F(2)=2（法1一次爬两个阶梯，法2两次爬一个阶梯）。 \n"
   ]
  },
  {
   "cell_type": "code",
   "metadata": {
    "ExecuteTime": {
     "end_time": "2025-04-23T13:02:58.495459Z",
     "start_time": "2025-04-23T13:02:58.485461Z"
    }
   },
   "source": [
    "# add your code here\n",
    "def ways(n):\n",
    "    F = []\n",
    "    for i in range(n+1):\n",
    "        F.append(0)\n",
    "    F[1] = 1\n",
    "    F[2] = 2\n",
    "    for i in range(3,n+1):\n",
    "        F[i] = F[i-1] + F[i-2]\n",
    "    \n",
    "    return F[n]\n",
    "print(f\"3个阶梯的方法数：: {ways(3)}\")\n",
    "print(f\"4个阶梯的方法数：: {ways(4)}\")\n",
    "print(f\"5个阶梯的方法数：: {ways(5)}\")\n",
    "# your algorithm time complexity is: "
   ],
   "outputs": [
    {
     "name": "stdout",
     "output_type": "stream",
     "text": [
      "3个阶梯的方法数：: 3\n",
      "4个阶梯的方法数：: 5\n",
      "5个阶梯的方法数：: 8\n"
     ]
    }
   ],
   "execution_count": 4
  },
  {
   "cell_type": "markdown",
   "metadata": {},
   "source": [
    "## 问题 5 \n",
    "\n",
    "> 0-1背包问题：现在有4块大理石，每个大理石对应的重量和价值使用一个元组表示, 即（重量，价值），4块大理石的重量和价值为：[(5,10), (4,40), (6,30), (3, 50)], 假设你有一辆最大承重为9的小推车，请问使用这个小推车装大理石的最大价值为多少\n",
    "\n",
    "请设计一个算法解决该问题，分析算法设计思路，计算时间复杂度，并基于python编程实现"
   ]
  },
  {
   "cell_type": "markdown",
   "metadata": {},
   "source": [
    "idea：idea：\n",
    "1. 算法设计：参考课件中一个背包的解决思路。dp[i][j]表示前i块大理石放进承重为j的小推车能获得的最大价值。初始化最大价值都为0，二重循环遍历从1开始。故dp[4][9]为最终结果。状态转移方程：①不选择第i块石头， dp[i][j] = dp[i-1][j]；②放入第i块石头：dp[i][j] = max(dp[i][j], dp[i-1][j - w[i-1]] + v[i-1])；\n",
    "2. 时间复杂度：代码都为二重循环故T（n）=O（n*c）=O（nc）"
   ]
  },
  {
   "cell_type": "code",
   "metadata": {
    "ExecuteTime": {
     "end_time": "2025-04-23T13:18:12.274636Z",
     "start_time": "2025-04-23T13:18:12.264637Z"
    }
   },
   "source": [
    "# add your code here\n",
    "def stone(tuples,c):\n",
    "    n = len(tuples)\n",
    "    dp = []\n",
    "    for i in range(n+1):\n",
    "        dp.append([])\n",
    "        for j in range(c+1):\n",
    "            dp[i].append(0)\n",
    "    \n",
    "    for i in range(1, n+1):\n",
    "        w, v = tuples[i-1]\n",
    "        for j in range(c+1):\n",
    "            if w <= j:\n",
    "                dp[i][j] = max(dp[i-1][j], dp[i-1][j-w]+v)\n",
    "            else:\n",
    "                dp[i][j] = dp[i-1][j-1]\n",
    "    return dp[n][c]\n",
    "\n",
    "tuples = [(5,10), (4,40), (6,30), (3, 50)]\n",
    "print(f\"大理石最大价值为: {stone(tuples,9)}\")\n",
    "    \n",
    "# your algorithm time complexity is:"
   ],
   "outputs": [
    {
     "name": "stdout",
     "output_type": "stream",
     "text": [
      "大理石最大价值为: 90\n"
     ]
    }
   ],
   "execution_count": 6
  },
  {
   "cell_type": "markdown",
   "metadata": {},
   "source": [
    "## 问题 6 \n",
    "给定 `n` 个非负整数表示每个宽度为 `1` 的柱子的高度图，计算按此排列的柱子，下雨之后能接多少雨水。\n",
    "\n",
    "\n",
    "\n",
    "<div style=\"text-align:center;width:800px;\"> <img alt=\"\" src=\"./fig/hw3q6.png\"> </div>\n",
    "\n",
    "请分析算法设计思路，计算时间复杂度，并基于python编程实现"
   ]
  },
  {
   "cell_type": "markdown",
   "metadata": {},
   "source": [
    "idea：使用的暴力法解决。\n",
    "算法设计思路：对于每个元素，分别找左右最高的柱子，然后二者中较矮的柱子减去当前柱子的高度即为接雨量。没有柱子的时候默认柱子的高度为0，要排除首尾。\n",
    "时间复杂度：max和min函数时间复杂度为O（n），因为外层有一层循环，故总的时间复杂度T（n）=O（n）*O（n）=O（n^2）。"
   ]
  },
  {
   "cell_type": "code",
   "metadata": {
    "ExecuteTime": {
     "end_time": "2025-04-23T13:45:12.217969Z",
     "start_time": "2025-04-23T13:45:12.203968Z"
    }
   },
   "source": [
    "# add your code here\n",
    "def rain(height):\n",
    "    total_water = 0\n",
    "    n = len(height)\n",
    "\n",
    "    for i in range(1, n - 1): \n",
    "        left_max = max(height[:i])\n",
    "        right_max = max(height[i + 1:])\n",
    "\n",
    "        water = min(left_max, right_max) - height[i]\n",
    "\n",
    "        if water > 0:\n",
    "            total_water += water\n",
    "\n",
    "    return total_water\n",
    "\n",
    "height = [0, 1, 0, 2, 1, 0, 1, 3, 2, 1, 2, 1]\n",
    "print(f\"接雨量：{rain(height)}\")\n",
    "height = [4, 2, 0, 3, 2, 5]\n",
    "print(f\"接雨量：{rain(height)}\")\n",
    "# your algorithm time complexity is:O(n^2)"
   ],
   "outputs": [
    {
     "name": "stdout",
     "output_type": "stream",
     "text": [
      "接雨量：6\n",
      "接雨量：9\n"
     ]
    }
   ],
   "execution_count": 7
  },
  {
   "cell_type": "markdown",
   "metadata": {},
   "source": [
    "## 问题 7 \n",
    "\n",
    "**股票投资组合优化**： 假设你是一位投资者，想要在不同的股票中分配你的资金，以最大化你的投资回报。每只股票都有不同的预期收益率和风险。你的目标是选择一些股票，使得总投资金额不超过你的预算，并且预期收益最大化。\n",
    "\n",
    "在这个情况下，你可以将每只股票视为一个“物品”，其重量为投资金额，价值为预期收益率。然后，你可以使用分级背包问题的方法来选择部分股票，以便在预算内获得最大的预期收益。\n",
    "\n",
    "以下是一个简化的例子：\n",
    "\n",
    "假设你有以下三只股票可供选择：\n",
    "\n",
    "1. 股票 A：投资金额 5000 美元，预期收益率 10%\n",
    "2. 股票 B：投资金额 3000 美元，预期收益率 8%\n",
    "3. 股票 C：投资金额 2000 美元，预期收益率 12%\n",
    "\n",
    "请设计算法找到最优投资方案，分析算法设计思路，计算时间复杂度，并基于python编程实现"
   ]
  },
  {
   "cell_type": "markdown",
   "metadata": {},
   "source": [
    "idea：可以将其简单的看作背包问题。\n",
    "1. 算法设计思路：参考题目所给的想法，将每只股票看成一个物品，投资金额为重量，预期收益率为价值，预算为容量。参考课件中一个背包的解决思路。dp[i][j]表示前i个股票购入，预算为j能获得的最大价值。初始化最大价值都为0，二重循环遍历从1开始。故dp[len（股票只数）][预算]为最终结果。状态转移方程：①不购入第i只股票， dp[i][j] = dp[i-1][j]；②购入第i只股票：dp[i][j] = max(dp[i][j], dp[i-1][j - w[i-1]] + v[i-1])；\n",
    "2. 时间复杂度：代码都为二重循环故T（n）=O（n*c）=O（nc）n为股票只数，c为预算\n",
    "3. 所给例子未给预算，故自己设定预算为5000美元"
   ]
  },
  {
   "cell_type": "code",
   "metadata": {
    "ExecuteTime": {
     "end_time": "2025-04-24T10:50:07.530893Z",
     "start_time": "2025-04-24T10:50:07.509715Z"
    }
   },
   "source": [
    "def money(tuples,c):\n",
    "    n = len(tuples)\n",
    "    dp = []\n",
    "    for i in range(n+1):\n",
    "        dp.append([])\n",
    "        for j in range(c+1):\n",
    "            dp[i].append(0)\n",
    "    \n",
    "    for i in range(1, n+1):\n",
    "        w, v = tuples[i-1]\n",
    "        v = w * v\n",
    "        for j in range(c+1):\n",
    "            if w <= j:\n",
    "                dp[i][j] = max(dp[i-1][j], dp[i-1][j-w]+v)\n",
    "            else:\n",
    "                dp[i][j] = dp[i-1][j-1]\n",
    "    return dp[n][c]\n",
    "\n",
    "tuples = [(5000,0.1), (3000,0.08), (2000,0.12)]\n",
    "print(f\"股票收益最大为: {money(tuples,5000)}美元\")\n",
    "    \n",
    "# your algorithm time complexity is:"
   ],
   "outputs": [
    {
     "name": "stdout",
     "output_type": "stream",
     "text": [
      "股票收益最大为: 500.0美元\n"
     ]
    }
   ],
   "execution_count": 4
  },
  {
   "cell_type": "markdown",
   "metadata": {},
   "source": [
    "## 问题 8\n",
    "\n",
    "给你二叉搜索树的根节点 root ，该树中的恰好两个节点的值被错误地交换。请在不改变其结构的情况下，恢复这棵树 。设计算法解决该问题，分析算法设计思路，计算时间复杂度，并基于python编程实现\n",
    "\n",
    "e.g.:\n",
    "---\n",
    "1.\n",
    "\n",
    "<div style=\"text-align:center;width:200px;\"> <img alt=\"\" src=\"./fig/hw3q9-1.jpg\"> </div>\n",
    "输入：root = [1,3,null,null,2]， 输出为：[3,1,null,null,2]， \n",
    "\n",
    "解释：3 不能是 1 的左孩子，因为 3 > 1 。交换 1 和 3 使二叉搜索树有效。\n",
    "\n",
    "2.\n",
    "\n",
    " <div style=\"text-align:center;width:200px;\"> <img alt=\"\" src=\"./fig/hw3q9-1.jpg\"> </div>\n",
    "输入： root=[3,1,4,null,null,2]， 输出为：[2,1,4,null,null,3]\n",
    "\n",
    "解释：2 不能在 3 的右子树中，因为 2 < 3 。交换 2 和 3 使二叉搜索树有效。"
   ]
  },
  {
   "cell_type": "markdown",
   "metadata": {},
   "source": [
    "idea：此题接住了大模型提供的思路。\n",
    "1. 算法设计思路：二叉搜索树的中序遍历值为升序，通过中序遍历出来的值来找到逆序的位置，然后使用两个定位的节点，第一个定位逆序对中的较大值，第二个定位逆序中的较小值，找到两个错误节点后，交换这两个节点的值即可恢复。\n",
    "2. 时间复杂度：因为输出后需要遍历所有的节点找出逆序对，故时间复杂度应该为O（n）\n"
   ]
  },
  {
   "cell_type": "code",
   "metadata": {
    "ExecuteTime": {
     "end_time": "2025-04-28T09:52:59.161546Z",
     "start_time": "2025-04-28T09:52:59.142549Z"
    }
   },
   "source": [
    "# add your code here\n",
    "class TreeNode:\n",
    "    def __init__(self, val=0, left=None, right=None):\n",
    "        self.val = val\n",
    "        self.left = left\n",
    "        self.right = right\n",
    "\n",
    "def insert(arr, index = 0):\n",
    "    if index >= len(arr) or arr[index] is None:\n",
    "        return None\n",
    "\n",
    "    root = TreeNode(arr[index])\n",
    "    root.left = insert(arr, 2 * index + 1)\n",
    "    root.right = insert(arr, 2 * index + 2)\n",
    "    return root\n",
    "\n",
    "class Solution:\n",
    "    def recoverTree(self, root):\n",
    "        self.first = None\n",
    "        self.second = None\n",
    "        self.prev = TreeNode(float('-inf'))\n",
    "\n",
    "        def inorder(node):\n",
    "            if not node:\n",
    "                return\n",
    "            inorder(node.left)\n",
    "            # 检查逆序对\n",
    "            if not self.first and self.prev.val > node.val:\n",
    "                self.first = self.prev\n",
    "            if self.first and self.prev.val > node.val:\n",
    "                self.second = node\n",
    "            self.prev = node\n",
    "            inorder(node.right)\n",
    "\n",
    "        inorder(root)\n",
    "        self.first.val, self.second.val = self.second.val, self.first.val\n",
    "\n",
    "\n",
    "# 测试用例\n",
    "def print_inorder(root):\n",
    "    if not root:\n",
    "        return\n",
    "    print_inorder(root.left)\n",
    "    print(root.val, end=' ')\n",
    "    print_inorder(root.right)\n",
    "\n",
    "\n",
    "if __name__ == \"__main__\":\n",
    "    arr = [1, 3, None, None, 2]\n",
    "    root = insert(arr)\n",
    "    Solution().recoverTree(root)\n",
    "    print(\"恢复后中序遍历:\", end=' ')\n",
    "    print_inorder(root)\n",
    "    arr = [3, 1, 4, None, None, 2]\n",
    "    root = insert(arr)\n",
    "    Solution().recoverTree(root)\n",
    "    print(\"\\n恢复后中序遍历:\", end=' ')\n",
    "    print_inorder(root)\n",
    "# your algorithm time complexity is:"
   ],
   "outputs": [
    {
     "name": "stdout",
     "output_type": "stream",
     "text": [
      "恢复后中序遍历: 1 2 3 \n",
      "恢复后中序遍历: 1 2 3 4 "
     ]
    }
   ],
   "execution_count": 4
  },
  {
   "cell_type": "markdown",
   "metadata": {},
   "source": [
    "## 问题 9  \n",
    "\n",
    "给你一个二叉树的根节点 root ，树中每个节点都存放有一个 0 到 9 之间的数字。每条从根节点到叶节点的路径都代表一个数字：\n",
    "\n",
    "> 例如，从根节点到叶节点的路径 1 -> 2 -> 3 表示数字 123 。\n",
    "\n",
    "设计一个算法计算从根节点到叶节点生成的所有数字之和 ，分析算法设计思路，计算时间复杂度，并基于python编程实现\n",
    "\n",
    "叶节点:是指没有子节点的节点。\n",
    "\n",
    "e.g.:\n",
    "---\n",
    "1.\n",
    "\n",
    " <div style=\"text-align:center;width:200px;\"> <img alt=\"figure\" src=\"./fig/hw3q10-1.jpg\"> </div>\n",
    "\n",
    " 输入：root = [1,2,3], 输出：25\n",
    "\n",
    "解释：从根到叶子节点路径 1->2 代表数字 12，1->3 代表数字 13，因此和为 12 + 13 = 25 。\n",
    "\n",
    "2.\n",
    "\n",
    " <div style=\"text-align:center;width:200px;\"> <img alt=\"figure\" src=\"./fig/hw3q10-2.jpg\"> </div>\n",
    "\n",
    " 输入：root = [4,9,0,5,1], 输出：1026\n",
    "\n",
    "解释：从根到叶子节点路径 4->9->5 代表数字 495，4->9->1 代表数字 491，4->0 代表数字 40。因此和为 495 + 491 + 40 = 1026 。"
   ]
  },
  {
   "cell_type": "markdown",
   "metadata": {},
   "source": [
    "idea：使用深度优先搜索的方法，将数组转为二叉树的时候采用递归的方法进行初始化\n",
    "1. 算法设计思路：从根节点开始进行深度递归，一直递归到叶子节点，递归加深一层的时候就需要计算当前节点的值，公式为sum*10+node.val。\n",
    "2. 时间复杂度：递归的时候实质上是每个节点都被访问一次，故时间复杂度为T（n）=O（n）"
   ]
  },
  {
   "cell_type": "code",
   "metadata": {
    "ExecuteTime": {
     "end_time": "2025-04-28T07:55:59.998106Z",
     "start_time": "2025-04-28T07:55:59.985106Z"
    }
   },
   "source": [
    "# add your code here\n",
    "class TreeNode:\n",
    "    def __init__(self, val=0, left=None, right=None):\n",
    "        self.val = val\n",
    "        self.left = left\n",
    "        self.right = right\n",
    "\n",
    "def insert(arr, index = 0):\n",
    "    if index >= len(arr) or arr[index] is None:\n",
    "        return None\n",
    "\n",
    "    root = TreeNode(arr[index])\n",
    "    root.left = insert(arr, 2 * index + 1)\n",
    "    root.right = insert(arr, 2 * index + 2)\n",
    "    return root\n",
    "\n",
    "def num(node, sum=0):\n",
    "    if node is None:\n",
    "        return  0\n",
    "    sum = sum * 10 + node.val\n",
    "    if node.left is None and node.right is None:\n",
    "        return sum\n",
    "    return num(node.left, sum) + num(node.right, sum)\n",
    "\n",
    "arr = [1,2,3]\n",
    "root = insert(arr)\n",
    "print(f\"二叉树和为：{num(root)}\")\n",
    "arr = [4,9,0,5,1]\n",
    "root = insert(arr)\n",
    "print(f\"二叉树和为：{num(root)}\")\n",
    "# your algorithm time complexity is:"
   ],
   "outputs": [
    {
     "name": "stdout",
     "output_type": "stream",
     "text": [
      "二叉树和为：25\n",
      "二叉树和为：1026\n"
     ]
    }
   ],
   "execution_count": 3
  },
  {
   "cell_type": "markdown",
   "metadata": {},
   "source": [
    "## 问题 10  \n",
    "\n",
    "给你一个二叉树的根节点 root ， 检查它是否轴对称。\n",
    "\n",
    "1. 分析算法设计思路，计算时间复杂度，并基于python编程实现\n",
    "2. \\* 设计使用递归和迭代两种方法解决这个问题，计算时间复杂度，并基于python编程实现\n",
    "\n",
    "e.g.:\n",
    "---\n",
    "1.\n",
    "\n",
    " <div style=\"text-align:center;width:200px;\"> <img alt=\"figure\" src=\"./fig/hw3q11-1.png\"> </div>\n",
    "\n",
    " 输入：root = [1,2,2,3,4,4,3]， 输出：true\n",
    "\n",
    "解释：二叉树 [1,2,2,3,4,4,3] 对称。\n",
    "\n",
    "2.\n",
    "\n",
    " <div style=\"text-align:center;width:200px;\"> <img alt=\"figure\" src=\"./fig/hw3q11-2.png\"> </div>\n",
    "\n",
    " 输入：root = [1,2,2,null,3,null,3]， 输出：false"
   ]
  },
  {
   "cell_type": "markdown",
   "metadata": {},
   "source": [
    "idea:使用递归的方法。\n",
    "1. 算法设计思路：从根节点开始进行左右子树的递归对比值，左子树的左节点的值与右子树的右节点、左子树的右节点的值与右子树的左节点的值一样才为对称。\n",
    "为了插入null，此处将null转为None，就可以直接输入数组和插入二叉树。\n",
    "2. 时间复杂度：①使用一维数组构建二叉树的时候使用的是递归方法，每个节点只被处理了一次，所以为O（n）；②检查是否对称，同样是递归进行操作，左右子树的值进行比较，每个节点最多被访问一次，所以为O（n）。综上，总的时间复杂度T（n）=O（n）+O（n）=O（n）"
   ]
  },
  {
   "cell_type": "code",
   "metadata": {
    "ExecuteTime": {
     "end_time": "2025-04-28T07:27:41.207030Z",
     "start_time": "2025-04-28T07:27:41.182033Z"
    }
   },
   "source": [
    "# add your code here\n",
    "class TreeNode:\n",
    "    def __init__(self, val=0, left=None, right=None):\n",
    "        self.val = val\n",
    "        self.left = left\n",
    "        self.right = right\n",
    "\n",
    "def insert(arr, index = 0):\n",
    "    if index >= len(arr) or arr[index] is None:\n",
    "        return None\n",
    "\n",
    "    root = TreeNode(arr[index])\n",
    "    root.left = insert(arr, 2 * index + 1)\n",
    "    root.right = insert(arr, 2 * index + 2)\n",
    "    return root\n",
    "\n",
    "def Duichen(root):\n",
    "    return isTrue(root, root)\n",
    "\n",
    "def isTrue(left_child, right_child):\n",
    "    if left_child is None and right_child is None:\n",
    "        return True\n",
    "    \n",
    "    if left_child is None or right_child is None:\n",
    "        return False\n",
    "    \n",
    "    return left_child.val == right_child.val and isTrue(left_child.left, right_child.right) and isTrue(left_child.right, right_child.left)\n",
    "\n",
    "\n",
    "arr = [1,2,2,3,4,4,3]\n",
    "root = insert(arr)\n",
    "print(f\"二叉树是否对称：{Duichen(root)}\")\n",
    "arr = [1,2,2,None,3,None,3]\n",
    "root = insert(arr)\n",
    "print(f\"二叉树是否对称：{Duichen(root)}\")\n",
    "# your algorithm time complexity is:"
   ],
   "outputs": [
    {
     "name": "stdout",
     "output_type": "stream",
     "text": [
      "二叉树是否对称：True\n",
      "二叉树是否对称：False\n"
     ]
    }
   ],
   "execution_count": 2
  },
  {
   "cell_type": "markdown",
   "metadata": {},
   "source": [
    "## 问题 11  \n",
    "\n",
    "给你一个由 '1'（陆地）和 '0'（水）组成的的二维网格，请你计算网格中岛屿的数量。岛屿总是被水包围，并且每座岛屿只能由水平方向和/或竖直方向上相邻的陆地连接形成。\n",
    "\n",
    "此外，你可以假设该网格的四条边均被水包围。\n",
    "\n",
    "分析算法设计思路，计算时间复杂度，并基于python编程实现\n",
    "\n",
    "e.g.:\n",
    "---\n",
    "1.\n",
    "输入：grid = [\n",
    "\n",
    "    [\"1\",\"1\",\"1\",\"1\",\"0\"],\n",
    "\n",
    "    [\"1\",\"1\",\"0\",\"1\",\"0\"], \n",
    "\n",
    "    [\"1\",\"1\",\"0\",\"0\",\"0\"], \n",
    "\n",
    "    [\"0\",\"0\",\"0\",\"0\",\"0\"]  \n",
    "\n",
    "]\n",
    "\n",
    "输出：1\n",
    "\n",
    "2.\n",
    "输入：grid = [\n",
    "\n",
    "    [\"1\",\"1\",\"0\",\"0\",\"0\"],\n",
    "\n",
    "    [\"1\",\"1\",\"0\",\"0\",\"0\"],\n",
    "\n",
    "    [\"0\",\"0\",\"1\",\"0\",\"0\"],\n",
    "\n",
    "    [\"0\",\"0\",\"0\",\"1\",\"1\"]\n",
    "\n",
    "]\n",
    "\n",
    "输出：3"
   ]
  },
  {
   "cell_type": "markdown",
   "metadata": {},
   "source": [
    "idea: 使用深度优先搜索的方法。\n",
    "1. 算法设计思路：遍历每一个点，遇到1就进行深度优先搜索，将这个点的上下左右的为1的点赋值为0，表示这为一个岛屿。一次类推完成网格中所有的点。\n",
    "2. 时间复杂度：每个点都只被访问了一次，所以T（n）=O（网格长度*网格宽度）=O（n），n为网格总的点数。"
   ]
  },
  {
   "cell_type": "code",
   "metadata": {
    "ExecuteTime": {
     "end_time": "2025-04-28T07:10:15.910275Z",
     "start_time": "2025-04-28T07:10:15.887268Z"
    }
   },
   "source": [
    "# add your code here\n",
    "def land_num(grid):\n",
    "    count = 0\n",
    "    rows = len(grid)\n",
    "    cols = len(grid[0])\n",
    "\n",
    "    def dfs(row, col):\n",
    "        if row < 0 or col < 0 or row >= rows or col >= cols:\n",
    "            return\n",
    "        if grid[row][col] != '1':\n",
    "            return\n",
    "        grid[row][col] = '0'\n",
    "        dfs(row+1, col)\n",
    "        dfs(row-1, col)\n",
    "        dfs(row, col+1)\n",
    "        dfs(row, col-1)\n",
    "\n",
    "    for i in range(rows):\n",
    "        for j in range(cols):\n",
    "            if grid[i][j] == '1':\n",
    "                count = count + 1\n",
    "                dfs(i, j)\n",
    "\n",
    "    return count\n",
    "\n",
    "grid = [\n",
    "    [\"1\",\"1\",\"1\",\"1\",\"0\"],\n",
    "    [\"1\",\"1\",\"0\",\"1\",\"0\"],\n",
    "    [\"1\",\"1\",\"0\",\"0\",\"0\"],\n",
    "    [\"0\",\"0\",\"0\",\"0\",\"0\"]\n",
    "]\n",
    "\n",
    "print(f\"岛屿数量为：{land_num(grid)}\")\n",
    "\n",
    "grid = [\n",
    "    [\"1\",\"1\",\"0\",\"0\",\"0\"],\n",
    "    [\"1\",\"1\",\"0\",\"0\",\"0\"],\n",
    "    [\"0\",\"0\",\"1\",\"0\",\"0\"],\n",
    "    [\"0\",\"0\",\"0\",\"1\",\"1\"]\n",
    "]\n",
    "print(f\"岛屿数量为：{land_num(grid)}\")\n",
    "# your algorithm time complexity is:"
   ],
   "outputs": [
    {
     "name": "stdout",
     "output_type": "stream",
     "text": [
      "岛屿数量为：1\n",
      "岛屿数量为：3\n"
     ]
    }
   ],
   "execution_count": 1
  }
 ],
 "metadata": {
  "language_info": {
   "name": "python"
  },
  "kernelspec": {
   "name": "python3",
   "language": "python",
   "display_name": "Python 3 (ipykernel)"
  }
 },
 "nbformat": 4,
 "nbformat_minor": 2
}
